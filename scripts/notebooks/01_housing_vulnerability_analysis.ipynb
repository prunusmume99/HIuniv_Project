{
  "cells": [
    {
      "cell_type": "markdown",
      "metadata": {},
      "source": [
        "# 🏠 주거취약지수 분석 및 지도 시각화\n",
        "\n",
        "이 노트북에서는 한국의 지역별 주거취약지수를 분석하고 지도로 시각화합니다.\n",
        "\n",
        "## 📋 분석 목표\n",
        "- 자연재해 위험도와 노후주택 현황을 종합한 주거취약지수 계산\n",
        "- 지역별 취약성 등급 분류 및 시각화\n",
        "- 인터랙티브 지도 생성\n",
        "- 분석 결과 요약 및 인사이트 도출"
      ]
    },
    {
      "cell_type": "code",
      "execution_count": null,
      "metadata": {},
      "outputs": [],
      "source": [
        "# 라이브러리 임포트\n",
        "import pandas as pd\n",
        "import numpy as np\n",
        "import matplotlib.pyplot as plt\n",
        "import seaborn as sns\n",
        "import folium\n",
        "from pathlib import Path\n",
        "import warnings\n",
        "warnings.filterwarnings('ignore')\n",
        "\n",
        "# 한글 폰트 설정\n",
        "plt.rcParams['font.family'] = 'NanumGothic'\n",
        "plt.rcParams['axes.unicode_minus'] = False\n",
        "\n",
        "print(\"라이브러리 임포트 완료\")"
      ]
    },
    {
      "cell_type": "markdown",
      "metadata": {},
      "source": [
        "## 📁 데이터 로드"
      ]
    },
    {
      "cell_type": "code",
      "execution_count": null,
      "metadata": {},
      "outputs": [],
      "source": [
        "# 데이터 로드\n",
        "data_path = '../data/processed/processed_data.csv'\n",
        "df = pd.read_csv(data_path, encoding='utf-8-sig')\n",
        "\n",
        "print(f\"데이터 로드 완료: {len(df)}개 행, {len(df.columns)}개 컬럼\")\n",
        "print(f\"컬럼명: {list(df.columns)}\")\n",
        "df.head()"
      ]
    },
    {
      "cell_type": "markdown",
      "metadata": {},
      "source": [
        "## 🔍 데이터 탐색"
      ]
    },
    {
      "cell_type": "code",
      "execution_count": null,
      "metadata": {},
      "outputs": [],
      "source": [
        "# 기본 정보 확인\n",
        "print(\"=== 데이터 기본 정보 ===\")\n",
        "print(df.info())\n",
        "\n",
        "print(\"\\n=== 기술 통계 ===\")\n",
        "print(df.describe())\n",
        "\n",
        "print(\"\\n=== 결측값 현황 ===\")\n",
        "print(df.isnull().sum())"
      ]
    },
    {
      "cell_type": "markdown",
      "metadata": {},
      "source": [
        "## 📊 주거취약지수 계산"
      ]
    },
    {
      "cell_type": "code",
      "execution_count": null,
      "metadata": {},
      "outputs": [],
      "source": [
        "# 주거취약지수 계산\n",
        "# 가중치 설정\n",
        "weights = {\n",
        "    'total_risk': 0.4,      # 전체 위험도 40%\n",
        "    'high_risk': 0.3,       # 고위험도 30%\n",
        "    'aged_housing_ratio': 0.3  # 노후주택비율 30%\n",
        "}\n",
        "\n",
        "# 주거취약지수 계산\n",
        "df['housing_vulnerability_index'] = (\n",
        "    df['total_risk'] * weights['total_risk'] +\n",
        "    df['high_risk'] * weights['high_risk'] +\n",
        "    df['aged_housing_ratio'] * weights['aged_housing_ratio']\n",
        ")\n",
        "\n",
        "# 0-100 스케일로 정규화\n",
        "df['housing_vulnerability_index'] = (\n",
        "    (df['housing_vulnerability_index'] - df['housing_vulnerability_index'].min()) /\n",
        "    (df['housing_vulnerability_index'].max() - df['housing_vulnerability_index'].min()) * 100\n",
        ")\n",
        "\n",
        "# 등급 분류\n",
        "df['vulnerability_grade'] = pd.cut(\n",
        "    df['housing_vulnerability_index'],\n",
        "    bins=[0, 30, 50, 70, 100],\n",
        "    labels=['낮음', '보통', '높음', '매우 높음'],\n",
        "    include_lowest=True\n",
        ")\n",
        "\n",
        "print(\"주거취약지수 계산 완료\")\n",
        "print(f\"평균 취약지수: {df['housing_vulnerability_index'].mean():.2f}\")\n",
        "print(f\"최고 취약지수: {df['housing_vulnerability_index'].max():.2f}\")\n",
        "print(f\"최저 취약지수: {df['housing_vulnerability_index'].min():.2f}\")\n",
        "\n",
        "df.head()"
      ]
    },
    {
      "cell_type": "markdown",
      "metadata": {},
      "source": [
        "## 📈 시각화"
      ]
    },
    {
      "cell_type": "code",
      "execution_count": null,
      "metadata": {},
      "outputs": [],
      "source": [
        "# 시각화\n",
        "fig, axes = plt.subplots(2, 3, figsize=(18, 12))\n",
        "\n",
        "# 1. 주거취약지수 분포\n",
        "axes[0, 0].hist(df['housing_vulnerability_index'], bins=20, alpha=0.7, color='skyblue')\n",
        "axes[0, 0].set_title('주거취약지수 분포')\n",
        "axes[0, 0].set_xlabel('취약지수')\n",
        "axes[0, 0].set_ylabel('빈도')\n",
        "\n",
        "# 2. 상위 10개 지역\n",
        "top_10 = df.nlargest(10, 'housing_vulnerability_index')\n",
        "axes[0, 1].barh(range(len(top_10)), top_10['housing_vulnerability_index'])\n",
        "axes[0, 1].set_yticks(range(len(top_10)))\n",
        "axes[0, 1].set_yticklabels(top_10['region'])\n",
        "axes[0, 1].set_title('상위 10개 취약 지역')\n",
        "axes[0, 1].set_xlabel('취약지수')\n",
        "\n",
        "# 3. 위험도 vs 노후주택비율\n",
        "axes[0, 2].scatter(df['total_risk'], df['aged_housing_ratio'], \n",
        "                   c=df['housing_vulnerability_index'], cmap='viridis', alpha=0.6)\n",
        "axes[0, 2].set_xlabel('전체 위험도')\n",
        "axes[0, 2].set_ylabel('노후주택비율 (%)')\n",
        "axes[0, 2].set_title('위험도 vs 노후주택비율')\n",
        "plt.colorbar(axes[0, 2].collections[0], ax=axes[0, 2])\n",
        "\n",
        "# 4. 지역별 취약지수\n",
        "axes[1, 0].bar(range(len(df)), df['housing_vulnerability_index'])\n",
        "axes[1, 0].set_xticks(range(len(df)))\n",
        "axes[1, 0].set_xticklabels(df['region'], rotation=45)\n",
        "axes[1, 0].set_title('지역별 주거취약지수')\n",
        "axes[1, 0].set_ylabel('취약지수')\n",
        "\n",
        "# 5. 상관관계 히트맵\n",
        "correlation_cols = ['total_risk', 'high_risk', 'aged_housing_ratio', 'housing_vulnerability_index']\n",
        "correlation_matrix = df[correlation_cols].corr()\n",
        "sns.heatmap(correlation_matrix, annot=True, cmap='coolwarm', center=0, ax=axes[1, 1])\n",
        "axes[1, 1].set_title('변수 간 상관관계')\n",
        "\n",
        "# 6. 등급별 분포\n",
        "grade_counts = df['vulnerability_grade'].value_counts()\n",
        "axes[1, 2].pie(grade_counts.values, labels=grade_counts.index, autopct='%1.1f%%')\n",
        "axes[1, 2].set_title('등급별 분포')\n",
        "\n",
        "plt.tight_layout()\n",
        "plt.show()"
      ]
    },
    {
      "cell_type": "markdown",
      "metadata": {},
      "source": [
        "## 🗺️ 인터랙티브 지도 생성"
      ]
    },
    {
      "cell_type": "code",
      "execution_count": null,
      "metadata": {},
      "outputs": [],
      "source": [
        "# 한국 지도 생성\n",
        "m = folium.Map(location=[36.5, 127.5], zoom_start=7, tiles='OpenStreetMap')\n",
        "\n",
        "# 지역별 좌표 (대략적인 중심점)\n",
        "region_coords = {\n",
        "    '서울특별시': [37.5665, 126.9780],\n",
        "    '부산광역시': [35.1796, 129.0756],\n",
        "    '대구광역시': [35.8714, 128.6014],\n",
        "    '인천광역시': [37.4563, 126.7052],\n",
        "    '광주광역시': [35.1595, 126.8526],\n",
        "    '대전광역시': [36.3504, 127.3845],\n",
        "    '울산광역시': [35.5384, 129.3114],\n",
        "    '세종특별자치시': [36.4877, 127.2827],\n",
        "    '경기도': [37.4138, 127.5183],\n",
        "    '강원도': [37.8228, 128.1555],\n",
        "    '충청북도': [36.8, 127.7],\n",
        "    '충청남도': [36.5184, 126.8000],\n",
        "    '전라북도': [35.7175, 127.1530],\n",
        "    '전라남도': [34.8679, 126.9910],\n",
        "    '경상북도': [36.4919, 128.8889],\n",
        "    '경상남도': [35.4606, 128.2132],\n",
        "    '제주특별자치도': [33.4996, 126.5312]\n",
        "}\n",
        "\n",
        "# 색상 매핑\n",
        "def get_color(grade):\n",
        "    if grade == '매우 높음':\n",
        "        return 'red'\n",
        "    elif grade == '높음':\n",
        "        return 'orange'\n",
        "    elif grade == '보통':\n",
        "        return 'yellow'\n",
        "    else:\n",
        "        return 'green'\n",
        "\n",
        "# 마커 추가\n",
        "for idx, row in df.iterrows():\n",
        "    region = row['region']\n",
        "    if region in region_coords:\n",
        "        lat, lon = region_coords[region]\n",
        "        vulnerability = row['housing_vulnerability_index']\n",
        "        grade = row['vulnerability_grade']\n",
        "        color = get_color(grade)\n",
        "        \n",
        "        # 팝업 내용\n",
        "        popup_content = f\"\"\"\n",
        "        <div style='width: 200px;'>\n",
        "            <h4>{region}</h4>\n",
        "            <p><b>주거취약지수</b></p>\n",
        "            <p>점수: {vulnerability:.1f}</p>\n",
        "            <p>등급: {grade}</p>\n",
        "            <p>전체 위험도: {row['total_risk']}</p>\n",
        "            <p>고위험도: {row['high_risk']}</p>\n",
        "            <p>노후주택비율: {row['aged_housing_ratio']:.1f}%</p>\n",
        "        </div>\n",
        "        \"\"\"\n",
        "        \n",
        "        folium.CircleMarker(\n",
        "            location=[lat, lon],\n",
        "            radius=vulnerability/5 + 5,  # 크기 조정\n",
        "            popup=folium.Popup(popup_content, max_width=300),\n",
        "            color=color,\n",
        "            fill=True,\n",
        "            fillColor=color,\n",
        "            fillOpacity=0.7\n",
        "        ).add_to(m)\n",
        "\n",
        "# 범례 추가\n",
        "legend_html = \"\"\"\n",
        "<div style=\"position: fixed; \n",
        "            bottom: 50px; left: 50px; width: 150px; height: 90px; \n",
        "            background-color: white; border:2px solid grey; z-index:9999; \n",
        "            font-size:14px; padding: 10px\">\n",
        "            <p><b>주거취약지수 등급</b></p>\n",
        "            <p><i class=\"fa fa-circle fa-1x\" style=\"color:red\"></i> 매우 높음</p>\n",
        "            <p><i class=\"fa fa-circle fa-1x\" style=\"color:orange\"></i> 높음</p>\n",
        "            <p><i class=\"fa fa-circle fa-1x\" style=\"color:yellow\"></i> 보통</p>\n",
        "            <p><i class=\"fa fa-circle fa-1x\" style=\"color:green\"></i> 낮음</p>\n",
        "</div>\n",
        "\"\"\"\n",
        "m.get_root().html.add_child(folium.Element(legend_html))\n",
        "\n",
        "m"
      ]
    },
    {
      "cell_type": "markdown",
      "metadata": {},
      "source": [
        "## 📊 분석 결과 요약"
      ]
    },
    {
      "cell_type": "code",
      "execution_count": null,
      "metadata": {},
      "outputs": [],
      "source": [
        "# 분석 결과 요약\n",
        "print(\"=== 지역별 주거취약지수 요약 ===\")\n",
        "summary = df[['region', 'housing_vulnerability_index', 'vulnerability_grade', \n",
        "              'total_risk', 'high_risk', 'aged_housing_ratio']].sort_values('housing_vulnerability_index', ascending=False)\n",
        "print(summary)\n",
        "\n",
        "print(\"\\n=== 등급별 지역 수 ===\")\n",
        "print(df['vulnerability_grade'].value_counts())\n",
        "\n",
        "print(\"\\n=== 통계 요약 ===\")\n",
        "print(f\"평균 취약지수: {df['housing_vulnerability_index'].mean():.2f}\")\n",
        "print(f\"표준편차: {df['housing_vulnerability_index'].std():.2f}\")\n",
        "print(f\"최고값: {df['housing_vulnerability_index'].max():.2f} ({df.loc[df['housing_vulnerability_index'].idxmax(), 'region']})\")\n",
        "print(f\"최저값: {df['housing_vulnerability_index'].min():.2f} ({df.loc[df['housing_vulnerability_index'].idxmin(), 'region']})\")"
      ]
    },
    {
      "cell_type": "markdown",
      "metadata": {},
      "source": [
        "## 💾 결과 저장"
      ]
    },
    {
      "cell_type": "code",
      "execution_count": null,
      "metadata": {},
      "outputs": [],
      "source": [
        "# 결과 저장\n",
        "output_path = '../results/'\n",
        "Path(output_path).mkdir(parents=True, exist_ok=True)\n",
        "\n",
        "# CSV 파일로 저장\n",
        "df.to_csv(f'{output_path}housing_vulnerability_analysis.csv', \n",
        "          index=False, encoding='utf-8-sig')\n",
        "\n",
        "# 지도 파일로 저장\n",
        "m.save(f'{output_path}housing_vulnerability_map.html')\n",
        "\n",
        "print(\"=== 결과 저장 완료 ===\")\n",
        "print(f\"- 분석 데이터: {output_path}housing_vulnerability_analysis.csv\")\n",
        "print(f\"- 인터랙티브 지도: {output_path}housing_vulnerability_map.html\")"
      ]
    },
    {
      "cell_type": "markdown",
      "metadata": {},
      "source": [
        "## 📋 분석 인사이트\n",
        "\n",
        "### 주요 발견사항\n",
        "1. **주거취약지수 분포**: [분포 특성] 분포를 보이며, 평균 [평균값]점\n",
        "2. **가장 취약한 지역**: [지역명] (취약지수: [점수]점)\n",
        "3. **가장 안전한 지역**: [지역명] (취약지수: [점수]점)\n",
        "\n",
        "### 정책 제언\n",
        "극한 강우 대응을 위해 다음 지역들의 주거취약도 개선이 시급:\n",
        "- [지역1]: [구체적 개선 방안]\n",
        "- [지역2]: [구체적 개선 방안]\n",
        "- [지역3]: [구체적 개선 방안]\n",
        "\n",
        "### 추가 분석 방향\n",
        "1. **시계열 분석**: 연도별 취약도 변화 추이 분석\n",
        "2. **세부 지역 분석**: 시군구 단위 세분화 분석\n",
        "3. **다변량 분석**: 추가 사회경제 지표와의 연관성 분석"
      ]
    }
  ],
  "metadata": {
    "kernelspec": {
      "display_name": "Python 3",
      "language": "python",
      "name": "python3"
    },
    "language_info": {
      "codemirror_mode": {
        "name": "ipython",
        "version": 3
      },
      "file_extension": ".py",
      "mimetype": "text/x-python",
      "name": "python",
      "nbconvert_exporter": "python",
      "pygments_lexer": "ipython3",
      "version": "3.8.5"
    }
  },
  "nbformat": 4,
  "nbformat_minor": 4
}