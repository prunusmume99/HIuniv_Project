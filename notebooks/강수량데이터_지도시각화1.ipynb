{
  "cells": [
    {
      "cell_type": "code",
      "execution_count": 5,
      "metadata": {
        "id": "Qp7Ystyg22rI"
      },
      "outputs": [],
      "source": [
        "# 1. geojson 파일을 불러온다.\n",
        "import json\n",
        "geo = json.load(open('C:\\\\Users\\\\user\\\\Desktop\\\\HIUniv_project\\\\HIuniv_Project\\\\data\\\\results\\\\SIG.geojson', encoding='UTF-8'))"
      ]
    },
    {
      "cell_type": "code",
      "execution_count": 6,
      "metadata": {
        "colab": {
          "base_uri": "https://localhost:8080/"
        },
        "id": "1jLLPxma3CHe",
        "outputId": "65a24b3e-84f8-4bac-ba5c-8f0a82a30092"
      },
      "outputs": [
        {
          "data": {
            "text/plain": [
              "{'SIG_CD': '42110', 'SIG_ENG_NM': 'Chuncheon-si', 'SIG_KOR_NM': '춘천시'}"
            ]
          },
          "execution_count": 6,
          "metadata": {},
          "output_type": "execute_result"
        }
      ],
      "source": [
        "geo['features'][0]['properties']"
      ]
    },
    {
      "cell_type": "code",
      "execution_count": 7,
      "metadata": {
        "id": "F0fneWjR4HNN"
      },
      "outputs": [],
      "source": [
        "# 2. 강수량 백분율 파일을 불러온다.\n",
        "import pandas as pd\n",
        "df = pd.read_excel('C:\\\\Users\\\\user\\\\Desktop\\\\HIUniv_project\\\\HIuniv_Project\\\\data\\\\results\\\\SIG_geojson_위도경도_백분율.xlsx')"
      ]
    },
    {
      "cell_type": "code",
      "execution_count": 8,
      "metadata": {
        "colab": {
          "base_uri": "https://localhost:8080/",
          "height": 206
        },
        "id": "tXBD2i4R4KVH",
        "outputId": "62a67481-3370-4df6-e2f1-d64cc0972a8e"
      },
      "outputs": [
        {
          "data": {
            "text/html": [
              "<div>\n",
              "<style scoped>\n",
              "    .dataframe tbody tr th:only-of-type {\n",
              "        vertical-align: middle;\n",
              "    }\n",
              "\n",
              "    .dataframe tbody tr th {\n",
              "        vertical-align: top;\n",
              "    }\n",
              "\n",
              "    .dataframe thead th {\n",
              "        text-align: right;\n",
              "    }\n",
              "</style>\n",
              "<table border=\"1\" class=\"dataframe\">\n",
              "  <thead>\n",
              "    <tr style=\"text-align: right;\">\n",
              "      <th></th>\n",
              "      <th>SIG_CD</th>\n",
              "      <th>SIG_ENG_NM</th>\n",
              "      <th>SIG_KOR_NM</th>\n",
              "      <th>latitude</th>\n",
              "      <th>longitude</th>\n",
              "      <th>백분율</th>\n",
              "      <th>관측소</th>\n",
              "    </tr>\n",
              "  </thead>\n",
              "  <tbody>\n",
              "    <tr>\n",
              "      <th>0</th>\n",
              "      <td>42110</td>\n",
              "      <td>Chuncheon-si</td>\n",
              "      <td>강원특별자치도 춘천시</td>\n",
              "      <td>38.080623</td>\n",
              "      <td>127.585086</td>\n",
              "      <td>69.072165</td>\n",
              "      <td>북춘천(93)</td>\n",
              "    </tr>\n",
              "    <tr>\n",
              "      <th>1</th>\n",
              "      <td>42130</td>\n",
              "      <td>Wonju-si</td>\n",
              "      <td>강원특별자치도 원주시</td>\n",
              "      <td>37.502458</td>\n",
              "      <td>127.935800</td>\n",
              "      <td>80.412371</td>\n",
              "      <td>원주(114)</td>\n",
              "    </tr>\n",
              "    <tr>\n",
              "      <th>2</th>\n",
              "      <td>42150</td>\n",
              "      <td>Gangneung-si</td>\n",
              "      <td>강원특별자치도 강릉시</td>\n",
              "      <td>37.649608</td>\n",
              "      <td>129.047855</td>\n",
              "      <td>32.989691</td>\n",
              "      <td>동해(106)</td>\n",
              "    </tr>\n",
              "    <tr>\n",
              "      <th>3</th>\n",
              "      <td>42170</td>\n",
              "      <td>Donghae-si</td>\n",
              "      <td>강원특별자치도 동해시</td>\n",
              "      <td>37.595003</td>\n",
              "      <td>129.087943</td>\n",
              "      <td>32.989691</td>\n",
              "      <td>동해(106)</td>\n",
              "    </tr>\n",
              "    <tr>\n",
              "      <th>4</th>\n",
              "      <td>42190</td>\n",
              "      <td>Taebaek-si</td>\n",
              "      <td>강원특별자치도 태백시</td>\n",
              "      <td>37.336363</td>\n",
              "      <td>129.012521</td>\n",
              "      <td>25.773196</td>\n",
              "      <td>태백(216)</td>\n",
              "    </tr>\n",
              "  </tbody>\n",
              "</table>\n",
              "</div>"
            ],
            "text/plain": [
              "   SIG_CD    SIG_ENG_NM   SIG_KOR_NM   latitude   longitude        백분율  \\\n",
              "0   42110  Chuncheon-si  강원특별자치도 춘천시  38.080623  127.585086  69.072165   \n",
              "1   42130      Wonju-si  강원특별자치도 원주시  37.502458  127.935800  80.412371   \n",
              "2   42150  Gangneung-si  강원특별자치도 강릉시  37.649608  129.047855  32.989691   \n",
              "3   42170    Donghae-si  강원특별자치도 동해시  37.595003  129.087943  32.989691   \n",
              "4   42190    Taebaek-si  강원특별자치도 태백시  37.336363  129.012521  25.773196   \n",
              "\n",
              "       관측소  \n",
              "0  북춘천(93)  \n",
              "1  원주(114)  \n",
              "2  동해(106)  \n",
              "3  동해(106)  \n",
              "4  태백(216)  "
            ]
          },
          "execution_count": 8,
          "metadata": {},
          "output_type": "execute_result"
        }
      ],
      "source": [
        "df.head()"
      ]
    },
    {
      "cell_type": "code",
      "execution_count": 9,
      "metadata": {
        "id": "OkpP5Qb24TSm"
      },
      "outputs": [],
      "source": [
        "#. SIG_CD 열은 Str 데이터타입 이여야 하므로 변환\n",
        "df['SIG_CD'] = df['SIG_CD'].astype(str)"
      ]
    },
    {
      "cell_type": "code",
      "execution_count": 10,
      "metadata": {
        "colab": {
          "base_uri": "https://localhost:8080/"
        },
        "id": "CzgKlN3r4YJf",
        "outputId": "9cb7f704-5faa-417c-b257-c309b2367963"
      },
      "outputs": [
        {
          "data": {
            "text/plain": [
              "[0, 20, 40, 60, 80, 100]"
            ]
          },
          "execution_count": 10,
          "metadata": {},
          "output_type": "execute_result"
        }
      ],
      "source": [
        "bins = list(range(0, 101, 20)) # 절대등급\n",
        "bins"
      ]
    },
    {
      "cell_type": "code",
      "execution_count": 11,
      "metadata": {
        "id": "RrC1lhqn4geY"
      },
      "outputs": [],
      "source": [
        "#맵 기초 파일 생성\n",
        "import folium\n",
        "map = folium.Map(location = [35.96, 127.7], zoom_start=8, tiles = 'cartodbpositron')"
      ]
    },
    {
      "cell_type": "code",
      "execution_count": 13,
      "metadata": {
        "colab": {
          "base_uri": "https://localhost:8080/"
        },
        "id": "QFrLnisG4jUw",
        "outputId": "5856feb2-6bc1-4b66-e966-9a6a7428004a"
      },
      "outputs": [
        {
          "data": {
            "text/plain": [
              "<folium.features.Choropleth at 0x1caf9e20e50>"
            ]
          },
          "execution_count": 13,
          "metadata": {},
          "output_type": "execute_result"
        }
      ],
      "source": [
        "# 지도에 데코 추가\n",
        "folium.Choropleth(geo_data = geo,\n",
        "                  data = df,\n",
        "                  columns = ('SIG_CD', '백분율'),\n",
        "                  key_on = 'feature.properties.SIG_CD',\n",
        "                  fill_color = 'YlGnBu',\n",
        "                  fill_opacity=1,\n",
        "                  line_opacity =0.5,\n",
        "                  bins = bins).add_to(map)\n"
      ]
    },
    {
      "cell_type": "code",
      "execution_count": 14,
      "metadata": {
        "colab": {
          "base_uri": "https://localhost:8080/",
          "height": 680
        },
        "id": "jS1MkDsd4l2f",
        "outputId": "0bfc47b0-e1ed-4b41-c879-329443811081"
      },
      "outputs": [],
      "source": [
        "map.save(\"rainfall_percentage_map_continuous.html\")"
      ]
    },
    {
      "cell_type": "code",
      "execution_count": null,
      "metadata": {
        "id": "zW97mdws4rAw"
      },
      "outputs": [],
      "source": []
    }
  ],
  "metadata": {
    "colab": {
      "provenance": []
    },
    "kernelspec": {
      "display_name": "Python 3",
      "name": "python3"
    },
    "language_info": {
      "codemirror_mode": {
        "name": "ipython",
        "version": 3
      },
      "file_extension": ".py",
      "mimetype": "text/x-python",
      "name": "python",
      "nbconvert_exporter": "python",
      "pygments_lexer": "ipython3",
      "version": "3.10.0"
    }
  },
  "nbformat": 4,
  "nbformat_minor": 0
}
