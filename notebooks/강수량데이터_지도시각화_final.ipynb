{
  "cells": [
    {
      "cell_type": "code",
      "execution_count": 3,
      "metadata": {
        "colab": {
          "base_uri": "https://localhost:8080/"
        },
        "id": "Qp7Ystyg22rI",
        "outputId": "822935c3-7775-4206-b3f0-305ecc1d44e8"
      },
      "outputs": [],
      "source": [
        "# ── 필수 라이브러리 ─────────────────────────────────────────────\n",
        "import json, folium, pandas as pd, matplotlib.pyplot as plt\n",
        "from folium.plugins import FloatImage\n",
        "\n",
        "\n",
        "# ── ① 엑셀·GeoJSON 읽기 (경로는 Colab 기본 /content 기준) ──\n",
        "df  = pd.read_excel('/Users/sullem/yj/HIuniv_Project/results/seokjun/SIG_geojson_위도경도_백분율.xlsx')\n",
        "with open('/Users/sullem/yj/HIuniv_Project/results/seokjun/SIG.geojson', encoding='utf-8') as f:\n",
        "    geo = json.load(f)"
      ]
    },
    {
      "cell_type": "code",
      "execution_count": 4,
      "metadata": {
        "id": "1jLLPxma3CHe"
      },
      "outputs": [],
      "source": [
        "# ── ② 데이터 전처리 ───────────────────────────────────────────\n",
        "df['SIG_CD']        = df['SIG_CD'].astype(str)           # 문자열로 변환\n",
        "bins   = [0, 20, 40, 60, 80, 100]                        # 5 구간\n",
        "labels = [1, 2, 3, 4, 5]\n",
        "df['강수등급']       = pd.cut(df['백분율'], bins=bins, labels=labels,\n",
        "                        include_lowest=True).astype(int)\n",
        "df['강수위험도(%)']   = df['백분율'].round(2)               # 소수점 2자리\n"
      ]
    },
    {
      "cell_type": "code",
      "execution_count": 5,
      "metadata": {
        "id": "F0fneWjR4HNN"
      },
      "outputs": [],
      "source": [
        "# ── ③ GeoJSON 속성에 df 값 머지(팝업/툴팁용) ────────────────\n",
        "code_map = df.set_index('SIG_CD')[['강수위험도(%)','강수등급']].to_dict('index')\n",
        "for feat in geo['features']:\n",
        "    code = str(feat['properties']['SIG_CD'])\n",
        "    if code in code_map:\n",
        "        feat['properties'].update(code_map[code])\n"
      ]
    },
    {
      "cell_type": "code",
      "execution_count": 6,
      "metadata": {
        "colab": {
          "base_uri": "https://localhost:8080/"
        },
        "id": "tXBD2i4R4KVH",
        "outputId": "a5df32bb-1420-4b20-a6b8-3de985835cf8"
      },
      "outputs": [
        {
          "data": {
            "text/plain": [
              "<folium.features.Choropleth at 0x11c12ce50>"
            ]
          },
          "execution_count": 6,
          "metadata": {},
          "output_type": "execute_result"
        }
      ],
      "source": [
        "# ── ④ 지도 & Choropleth ─────────────────────────────────────\n",
        "m = folium.Map(location=[36.5, 127.8], zoom_start=7)\n",
        "\n",
        "folium.Choropleth(\n",
        "    geo_data      = geo,\n",
        "    data          = df,\n",
        "    columns       = ['SIG_CD','백분율'],\n",
        "    key_on        = 'feature.properties.SIG_CD',\n",
        "    fill_color    = 'YlGnBu',\n",
        "    fill_opacity  = 0.8,\n",
        "    line_opacity  = 0.4,\n",
        "    nan_fill_color='white',\n",
        "    legend_name   = '통합 백분위 (5-구간)',\n",
        "    bins          = bins,\n",
        "    reset         = True\n",
        ").add_to(m)\n",
        "\n"
      ]
    },
    {
      "cell_type": "code",
      "execution_count": 7,
      "metadata": {
        "colab": {
          "base_uri": "https://localhost:8080/"
        },
        "id": "OkpP5Qb24TSm",
        "outputId": "9c16f223-624f-48a8-aeab-7dfa6667b350"
      },
      "outputs": [
        {
          "data": {
            "text/plain": [
              "<folium.features.GeoJson at 0x11bd6de50>"
            ]
          },
          "execution_count": 7,
          "metadata": {},
          "output_type": "execute_result"
        }
      ],
      "source": [
        "# ── ⑤ 클릭 툴팁 & 팝업 ──────────────────────────────────────\n",
        "folium.GeoJson(\n",
        "    geo,\n",
        "    style_function     = lambda _: {'fillOpacity':0, 'weight':0},\n",
        "    highlight_function = lambda _: {'weight':2, 'color':'#666'},\n",
        "    tooltip = folium.GeoJsonTooltip(\n",
        "        fields  = ['SIG_KOR_NM','강수위험도(%)','강수등급'],\n",
        "        aliases = ['행정동','강수위험도(%)','강수등급'],\n",
        "        localize=True\n",
        "    ),\n",
        "    popup   = folium.GeoJsonPopup(\n",
        "        fields  = ['SIG_KOR_NM','강수위험도(%)','강수등급'],\n",
        "        aliases = ['행정동','강수위험도(%)','강수등급'],\n",
        "        localize=True\n",
        "    )\n",
        ").add_to(m)\n"
      ]
    },
    {
      "cell_type": "code",
      "execution_count": 8,
      "metadata": {
        "colab": {
          "base_uri": "https://localhost:8080/",
          "height": 442
        },
        "id": "CzgKlN3r4YJf",
        "outputId": "90f43363-956a-4b16-8415-526f0e233a5c"
      },
      "outputs": [],
      "source": [
        "# ⑥-A 상위 10개 지역 막대그래프 HTML 생성 & 지도에 고정 ──────────────\n",
        "from branca.element import MacroElement\n",
        "from jinja2 import Template\n",
        "\n",
        "# 1) 상위 10개 추출 (값 ↑순으로 정렬)\n",
        "top10 = (df.nlargest(10, '백분율')\n",
        "           .sort_values('백분율'))\n",
        "\n",
        "# 2) HTML 막대그래프 만들기  ────────────────\n",
        "rows = \"\"\n",
        "for _, r in top10.iterrows():\n",
        "    rows += f\"\"\"\n",
        "    <tr>\n",
        "      <td style='padding-right:6px; white-space:nowrap; font-size:12px;'>\n",
        "          {r['SIG_KOR_NM']}\n",
        "      </td>\n",
        "      <td style='width:100%;'>\n",
        "          <div style='height:8px; background:#d65f9a; width:{r['백분율']:.2f}%;'></div>\n",
        "      </td>\n",
        "      <td style='padding-left:4px; font-size:12px;'>{r['백분율']:.2f}</td>\n",
        "    </tr>\n",
        "    \"\"\"\n",
        "\n",
        "chart_html = f\"\"\"\n",
        "<h4 style='margin:0 0 6px 0; font-size:14px;'>상위 10개 강수위험도(%)</h4>\n",
        "<table style='border-collapse:collapse; width:300px;'>{rows}</table>\n",
        "\"\"\"\n",
        "\n",
        "# 3) 지도에 “고정 오버레이”로 삽입  ──────────\n",
        "class FixedHtmlOverlay(MacroElement):\n",
        "    \"\"\"지도 화면 위 고정(over-div) HTML 표시용\"\"\"\n",
        "    _template = Template(u\"\"\"\n",
        "    {% macro html(this, kwargs) %}\n",
        "    <div style=\"\n",
        "         position: fixed;\n",
        "         bottom: 10px;              /* ↕ 위치 조정 */\n",
        "         right: 10px;               /* ↔ 위치 조정 */\n",
        "         z-index: 9999;\n",
        "         background: rgba(255,255,255,0.95);\n",
        "         padding: 8px 10px;\n",
        "         border: 1px solid #777;\n",
        "         border-radius: 4px;\n",
        "         box-shadow: 2px 2px 6px rgba(0,0,0,0.3);\n",
        "         \">\n",
        "      {{ this.html|safe }}\n",
        "    </div>\n",
        "    {% endmacro %}\n",
        "    \"\"\")  # noqa: E501\n",
        "\n",
        "    def __init__(self, html):\n",
        "        super().__init__()\n",
        "        self.html = html\n",
        "\n",
        "# 4) 지도 객체(m)에 추가\n",
        "m.get_root().add_child(FixedHtmlOverlay(chart_html))\n",
        "\n",
        "m.save('map_with_chart.html') \n"
      ]
    },
    {
      "cell_type": "code",
      "execution_count": null,
      "metadata": {},
      "outputs": [],
      "source": []
    }
  ],
  "metadata": {
    "colab": {
      "provenance": []
    },
    "kernelspec": {
      "display_name": "Python 3",
      "name": "python3"
    },
    "language_info": {
      "codemirror_mode": {
        "name": "ipython",
        "version": 3
      },
      "file_extension": ".py",
      "mimetype": "text/x-python",
      "name": "python",
      "nbconvert_exporter": "python",
      "pygments_lexer": "ipython3",
      "version": "3.9.6"
    }
  },
  "nbformat": 4,
  "nbformat_minor": 0
}
