{
  "cells": [
    {
      "cell_type": "markdown",
      "metadata": {},
      "source": [
        "# 🏠 사회취약지수 분석 및 지도 시각화\n",
        "\n",
        "이 노트북에서는 한국의 지역별 사회취약지수를 분석하고 지도로 시각화합니다.\n",
        "\n",
        "## 📋 분석 목표\n",
        "- 자연재해 위험도와 노후주택 현황을 종합한 사회취약지수 계산\n",
        "- 지역별 취약성 비교 및 시각화\n",
        "- 인터랙티브 지도 생성\n",
        "\n",
        "## 🎯 분석 지표\n",
        "1. **전체 위험도** (40%): 자연재해 위험도 종합 지표\n",
        "2. **고위험도** (30%): 높은 위험 수준의 재해 위험도\n",
        "3. **노후주택비율** (30%): 노후 건축물 비율"
      ]
    },
    {
      "cell_type": "code",
      "execution_count": null,
      "metadata": {},
      "outputs": [],
      "source": [
        "# 필요한 라이브러리 임포트\n",
        "import pandas as pd\n",
        "import numpy as np\n",
        "import matplotlib.pyplot as plt\n",
        "import seaborn as sns\n",
        "import folium\n",
        "from folium import plugins\n",
        "import warnings\n",
        "from pathlib import Path\n",
        "\n",
        "warnings.filterwarnings('ignore')\n",
        "\n",
        "# 한글 폰트 설정\n",
        "plt.rcParams['font.family'] = 'NanumGothic'\n",
        "plt.rcParams['axes.unicode_minus'] = False\n",
        "\n",
        "# 시각화 스타일 설정\n",
        "plt.style.use('seaborn-v0_8')\n",
        "sns.set_palette(\"husl\")\n",
        "\n",
        "print(\"라이브러리 임포트 완료!\")"
      ]
    },
    {
      "cell_type": "markdown",
      "metadata": {},
      "source": [
        "## 📁 데이터 로드 및 전처리"
      ]
    },
    {
      "cell_type": "code",
      "execution_count": null,
      "metadata": {},
      "outputs": [],
      "source": [
        "# 데이터 로드\n",
        "df = pd.read_csv('../data/processed/processed_data.csv')\n",
        "print(\"데이터 형태:\", df.shape)\n",
        "print(\"\\n데이터 미리보기:\")\n",
        "df.head()"
      ]
    },
    {
      "cell_type": "code",
      "execution_count": null,
      "metadata": {},
      "outputs": [],
      "source": [
        "# 데이터 정보 확인\n",
        "print(\"데이터 정보:\")\n",
        "print(df.info())\n",
        "print(\"\\n기술통계:\")\n",
        "print(df.describe())"
      ]
    },
    {
      "cell_type": "code",
      "execution_count": null,
      "metadata": {},
      "outputs": [],
      "source": [
        "# 결측치 확인 및 처리\n",
        "print(\"결측치 확인:\")\n",
        "print(df.isnull().sum())\n",
        "\n",
        "# 대전광역시의 low_risk 결측치를 0으로 처리\n",
        "df['low_risk'] = df['low_risk'].fillna(0)\n",
        "print(\"\\n결측치 처리 후:\")\n",
        "print(df.isnull().sum())"
      ]
    },
    {
      "cell_type": "markdown",
      "metadata": {},
      "source": [
        "## 📊 사회취약지수 계산"
      ]
    },
    {
      "cell_type": "code",
      "execution_count": null,
      "metadata": {},
      "outputs": [],
      "source": [
        "# 사회취약지수 계산\n",
        "# 위험도와 노후주택비율을 고려한 종합 취약지수\n",
        "df['vulnerability_index'] = (\n",
        "    df['total_risk'] * 0.4 +  # 전체 위험도 (40%)\n",
        "    df['high_risk'] * 0.3 +   # 고위험도 (30%)\n",
        "    df['aged_housing_ratio'] * 0.3  # 노후주택비율 (30%)\n",
        ")\n",
        "\n",
        "# 취약지수 정규화 (0-100 스케일)\n",
        "df['vulnerability_normalized'] = (\n",
        "    (df['vulnerability_index'] - df['vulnerability_index'].min()) / \n",
        "    (df['vulnerability_index'].max() - df['vulnerability_index'].min()) * 100\n",
        ")\n",
        "\n",
        "print(\"사회취약지수 계산 완료\")\n",
        "print(\"\\n취약지수 상위 5개 지역:\")\n",
        "print(df.nlargest(5, 'vulnerability_normalized')[['region', 'vulnerability_normalized', 'total_risk', 'aged_housing_ratio']])"
      ]
    },
    {
      "cell_type": "markdown",
      "metadata": {},
      "source": [
        "## 📈 데이터 시각화"
      ]
    },
    {
      "cell_type": "code",
      "execution_count": null,
      "metadata": {},
      "outputs": [],
      "source": [
        "# 시각화를 위한 그래프 생성\n",
        "fig, axes = plt.subplots(2, 2, figsize=(15, 12))\n",
        "\n",
        "# 1. 취약지수 분포\n",
        "axes[0, 0].hist(df['vulnerability_normalized'], bins=30, alpha=0.7, color='skyblue')\n",
        "axes[0, 0].set_title('사회취약지수 분포')\n",
        "axes[0, 0].set_xlabel('취약지수')\n",
        "axes[0, 0].set_ylabel('빈도')\n",
        "\n",
        "# 2. 위험도 vs 노후주택비율 산점도\n",
        "axes[0, 1].scatter(df['total_risk'], df['aged_housing_ratio'], \n",
        "                   c=df['vulnerability_normalized'], cmap='viridis', alpha=0.6)\n",
        "axes[0, 1].set_title('위험도 vs 노후주택비율')\n",
        "axes[0, 1].set_xlabel('전체 위험도')\n",
        "axes[0, 1].set_ylabel('노후주택비율 (%)')\n",
        "plt.colorbar(axes[0, 1].collections[0], ax=axes[0, 1])\n",
        "\n",
        "# 3. 상위 10개 취약 지역\n",
        "top_vulnerable = df.nlargest(10, 'vulnerability_normalized')\n",
        "axes[1, 0].barh(range(len(top_vulnerable)), top_vulnerable['vulnerability_normalized'])\n",
        "axes[1, 0].set_yticks(range(len(top_vulnerable)))\n",
        "axes[1, 0].set_yticklabels(top_vulnerable['region'], fontsize=8)\n",
        "axes[1, 0].set_title('상위 10개 취약 지역')\n",
        "axes[1, 0].set_xlabel('취약지수')\n",
        "\n",
        "# 4. 지표별 상관관계\n",
        "correlation_cols = ['total_risk', 'high_risk', 'aged_housing_ratio', 'vulnerability_normalized']\n",
        "correlation_matrix = df[correlation_cols].corr()\n",
        "sns.heatmap(correlation_matrix, annot=True, cmap='coolwarm', center=0, ax=axes[1, 1])\n",
        "axes[1, 1].set_title('지표별 상관관계')\n",
        "\n",
        "plt.tight_layout()\n",
        "plt.show()"
      ]
    },
    {
      "cell_type": "markdown",
      "metadata": {},
      "source": [
        "## 🗺️ 인터랙티브 지도 생성"
      ]
    },
    {
      "cell_type": "code",
      "execution_count": null,
      "metadata": {},
      "outputs": [],
      "source": [
        "# 한국 중심 지도 생성\n",
        "m = folium.Map(\n",
        "    location=[36.5, 127.5],  # 한국 중심 좌표\n",
        "    zoom_start=7,\n",
        "    tiles='OpenStreetMap'\n",
        ")\n",
        "\n",
        "# 취약지수에 따른 색상 매핑\n",
        "def get_color(vulnerability):\n",
        "    if vulnerability >= 80:\n",
        "        return 'red'\n",
        "    elif vulnerability >= 60:\n",
        "        return 'orange'\n",
        "    elif vulnerability >= 40:\n",
        "        return 'yellow'\n",
        "    else:\n",
        "        return 'green'\n",
        "\n",
        "# 각 지역에 마커 추가 (임시 좌표 사용)\n",
        "for idx, row in df.iterrows():\n",
        "    # 실제로는 각 지역의 정확한 좌표가 필요합니다\n",
        "    # 여기서는 임시로 한국 내 랜덤 좌표를 사용합니다\n",
        "    lat = 33.0 + (row.name % 10) * 0.5\n",
        "    lon = 124.0 + (row.name % 15) * 0.5\n",
        "    \n",
        "    folium.CircleMarker(\n",
        "        location=[lat, lon],\n",
        "        radius=8,\n",
        "        popup=f\"{row['region']}<br>취약지수: {row['vulnerability_normalized']:.1f}<br>위험도: {row['total_risk']:.2f}<br>노후주택비율: {row['aged_housing_ratio']:.1f}%\",\n",
        "        color=get_color(row['vulnerability_normalized']),\n",
        "        fill=True,\n",
        "        fillOpacity=0.7\n",
        "    ).add_to(m)\n",
        "\n",
        "# 범례 추가\n",
        "legend_html = '''\n",
        "<div style=\"position: fixed; \n",
        "            bottom: 50px; left: 50px; width: 150px; height: 90px; \n",
        "            background-color: white; border:2px solid grey; z-index:9999; \n",
        "            font-size:14px; \">\n",
        "            &nbsp; <b>사회취약지수</b> <br>\n",
        "            &nbsp; <i class=\"fa fa-circle fa-1x\" style=\"color:red\"></i> 매우 높음 (80+) <br>\n",
        "            &nbsp; <i class=\"fa fa-circle fa-1x\" style=\"color:orange\"></i> 높음 (60-79) <br>\n",
        "            &nbsp; <i class=\"fa fa-circle fa-1x\" style=\"color:yellow\"></i> 보통 (40-59) <br>\n",
        "            &nbsp; <i class=\"fa fa-circle fa-1x\" style=\"color:green\"></i> 낮음 (0-39) <br>\n",
        "</div>\n",
        "'''\n",
        "m.get_root().html.add_child(folium.Element(legend_html))\n",
        "\n",
        "m"
      ]
    },
    {
      "cell_type": "markdown",
      "metadata": {},
      "source": [
        "## 📊 지역별 분석 결과"
      ]
    },
    {
      "cell_type": "code",
      "execution_count": null,
      "metadata": {},
      "outputs": [],
      "source": [
        "# 지역별 요약 통계\n",
        "print(\"=== 지역별 사회취약지수 요약 ===\")\n",
        "summary_stats = df.groupby('region').agg({\n",
        "    'vulnerability_normalized': ['mean', 'std', 'min', 'max'],\n",
        "    'total_risk': 'mean',\n",
        "    'aged_housing_ratio': 'mean'\n",
        "}).round(2)\n",
        "\n",
        "summary_stats.columns = ['평균_취약지수', '표준편차', '최소값', '최대값', '평균_위험도', '평균_노후주택비율']\n",
        "print(summary_stats.sort_values('평균_취약지수', ascending=False))\n",
        "\n",
        "# 상위 10개 취약 지역\n",
        "print(\"\\n=== 상위 10개 취약 지역 ===\")\n",
        "top_vulnerable = df.nlargest(10, 'vulnerability_normalized')[\n",
        "    ['region', 'vulnerability_normalized', 'total_risk', 'aged_housing_ratio']\n",
        "]\n",
        "print(top_vulnerable)"
      ]
    },
    {
      "cell_type": "markdown",
      "metadata": {},
      "source": [
        "## 💾 결과 저장"
      ]
    },
    {
      "cell_type": "code",
      "execution_count": null,
      "metadata": {},
      "outputs": [],
      "source": [
        "# 분석 결과 저장\n",
        "output_path = '../results/'\n",
        "os.makedirs(output_path, exist_ok=True)\n",
        "\n",
        "# 전체 데이터 저장\n",
        "df.to_csv(f'{output_path}social_vulnerability_analysis.csv', \n",
        "          index=False, encoding='utf-8-sig')\n",
        "\n",
        "# 지도 저장\n",
        "m.save(f'{output_path}social_vulnerability_map.html')\n",
        "\n",
        "print(\"결과 저장 완료!\")\n",
        "print(f\"- 분석 데이터: {output_path}social_vulnerability_analysis.csv\")\n",
        "print(f\"- 인터랙티브 지도: {output_path}social_vulnerability_map.html\")"
      ]
    },
    {
      "cell_type": "markdown",
      "metadata": {},
      "source": [
        "## 📋 분석 결과 요약\n",
        "\n",
        "### 🎯 주요 발견사항\n",
        "1. **사회취약지수 분포**: [분포 특성] 분포를 보이며, 평균 [평균값]점\n",
        "2. **취약 지역**: [상위 지역]이 가장 높은 취약지수를 보임\n",
        "3. **지표 상관관계**: [주요 상관관계 발견사항]\n",
        "\n",
        "### 🚨 우선 대응 필요 지역\n",
        "극한 강우 대응을 위해 다음 지역들의 사회취약도 개선이 시급:\n",
        "- [취약 지역 1]: 취약지수 [값]점\n",
        "- [취약 지역 2]: 취약지수 [값]점\n",
        "- [취약 지역 3]: 취약지수 [값]점\n",
        "\n",
        "### 📊 다음 단계\n",
        "1. 하수도 인프라 지수와 결합한 통합 위험도 분석\n",
        "2. 극한 강우 데이터와의 상관관계 분석\n",
        "3. 지역별 우선순위 매트릭스 구축"
      ]
    }
  ],
  "metadata": {
    "kernelspec": {
      "display_name": "Python 3",
      "language": "python",
      "name": "python3"
    },
    "language_info": {
      "codemirror_mode": {
        "name": "ipython",
        "version": 3
      },
      "file_extension": ".py",
      "mimetype": "text/x-python",
      "name": "python",
      "nbconvert_exporter": "python",
      "pygments_lexer": "ipython3",
      "version": "3.8.5"
    }
  },
  "nbformat": 4,
  "nbformat_minor": 4
}