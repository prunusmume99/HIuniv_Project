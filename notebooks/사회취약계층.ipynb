{
  "cells": [
    {
      "cell_type": "markdown",
      "metadata": {
        "id": "RIsjQKvQCavb"
      },
      "source": [
        "### 0. 법정동코드(행정동코드)"
      ]
    },
    {
      "cell_type": "code",
      "execution_count": 20,
      "metadata": {},
      "outputs": [
        {
          "name": "stdout",
          "output_type": "stream",
          "text": [
            "c:\\HIuniv_Project-hyeonseo\\notebooks\n"
          ]
        }
      ],
      "source": [
        "import os\n",
        "print(os.getcwd())  "
      ]
    },
    {
      "cell_type": "code",
      "execution_count": 22,
      "metadata": {
        "colab": {
          "base_uri": "https://localhost:8080/",
          "height": 206
        },
        "id": "Aq9RW3hDCc_-",
        "outputId": "08e0554a-f74f-484e-fccd-1ac265b73bac"
      },
      "outputs": [
        {
          "data": {
            "text/html": [
              "<div>\n",
              "<style scoped>\n",
              "    .dataframe tbody tr th:only-of-type {\n",
              "        vertical-align: middle;\n",
              "    }\n",
              "\n",
              "    .dataframe tbody tr th {\n",
              "        vertical-align: top;\n",
              "    }\n",
              "\n",
              "    .dataframe thead th {\n",
              "        text-align: right;\n",
              "    }\n",
              "</style>\n",
              "<table border=\"1\" class=\"dataframe\">\n",
              "  <thead>\n",
              "    <tr style=\"text-align: right;\">\n",
              "      <th></th>\n",
              "      <th>법정동코드</th>\n",
              "      <th>시도명</th>\n",
              "      <th>시군구명</th>\n",
              "      <th>읍면동명</th>\n",
              "      <th>리명</th>\n",
              "      <th>순위</th>\n",
              "      <th>생성일자</th>\n",
              "      <th>삭제일자</th>\n",
              "      <th>과거법정동코드</th>\n",
              "    </tr>\n",
              "  </thead>\n",
              "  <tbody>\n",
              "    <tr>\n",
              "      <th>0</th>\n",
              "      <td>1100000000</td>\n",
              "      <td>서울특별시</td>\n",
              "      <td>NaN</td>\n",
              "      <td>NaN</td>\n",
              "      <td>NaN</td>\n",
              "      <td>11.0</td>\n",
              "      <td>1988-04-23</td>\n",
              "      <td>NaN</td>\n",
              "      <td>NaN</td>\n",
              "    </tr>\n",
              "    <tr>\n",
              "      <th>1</th>\n",
              "      <td>1111000000</td>\n",
              "      <td>서울특별시</td>\n",
              "      <td>종로구</td>\n",
              "      <td>NaN</td>\n",
              "      <td>NaN</td>\n",
              "      <td>1.0</td>\n",
              "      <td>1988-04-23</td>\n",
              "      <td>NaN</td>\n",
              "      <td>NaN</td>\n",
              "    </tr>\n",
              "    <tr>\n",
              "      <th>2</th>\n",
              "      <td>1111010100</td>\n",
              "      <td>서울특별시</td>\n",
              "      <td>종로구</td>\n",
              "      <td>청운동</td>\n",
              "      <td>NaN</td>\n",
              "      <td>1.0</td>\n",
              "      <td>1988-04-23</td>\n",
              "      <td>NaN</td>\n",
              "      <td>NaN</td>\n",
              "    </tr>\n",
              "    <tr>\n",
              "      <th>3</th>\n",
              "      <td>1111010200</td>\n",
              "      <td>서울특별시</td>\n",
              "      <td>종로구</td>\n",
              "      <td>신교동</td>\n",
              "      <td>NaN</td>\n",
              "      <td>2.0</td>\n",
              "      <td>1988-04-23</td>\n",
              "      <td>NaN</td>\n",
              "      <td>NaN</td>\n",
              "    </tr>\n",
              "    <tr>\n",
              "      <th>4</th>\n",
              "      <td>1111010300</td>\n",
              "      <td>서울특별시</td>\n",
              "      <td>종로구</td>\n",
              "      <td>궁정동</td>\n",
              "      <td>NaN</td>\n",
              "      <td>3.0</td>\n",
              "      <td>1988-04-23</td>\n",
              "      <td>NaN</td>\n",
              "      <td>NaN</td>\n",
              "    </tr>\n",
              "  </tbody>\n",
              "</table>\n",
              "</div>"
            ],
            "text/plain": [
              "        법정동코드    시도명 시군구명 읍면동명   리명    순위        생성일자 삭제일자  과거법정동코드\n",
              "0  1100000000  서울특별시  NaN  NaN  NaN  11.0  1988-04-23  NaN      NaN\n",
              "1  1111000000  서울특별시  종로구  NaN  NaN   1.0  1988-04-23  NaN      NaN\n",
              "2  1111010100  서울특별시  종로구  청운동  NaN   1.0  1988-04-23  NaN      NaN\n",
              "3  1111010200  서울특별시  종로구  신교동  NaN   2.0  1988-04-23  NaN      NaN\n",
              "4  1111010300  서울특별시  종로구  궁정동  NaN   3.0  1988-04-23  NaN      NaN"
            ]
          },
          "execution_count": 22,
          "metadata": {},
          "output_type": "execute_result"
        }
      ],
      "source": [
        "# 행정구역별 코드를 구하기 위해 국토교통부 법정동 코드 csv 파일을 불러온다.\n",
        "import pandas as pd\n",
        "csv_path = r'../data/raw/국토교통부_전국 법정동_20250415.csv'\n",
        "cd = pd.read_csv(csv_path)\n",
        "cd.head()"
      ]
    },
    {
      "cell_type": "code",
      "execution_count": 23,
      "metadata": {
        "colab": {
          "base_uri": "https://localhost:8080/",
          "height": 206
        },
        "id": "dw0J72DTMdyJ",
        "outputId": "f26b3d9a-1f04-48e2-b93f-eec002670204"
      },
      "outputs": [
        {
          "data": {
            "text/html": [
              "<div>\n",
              "<style scoped>\n",
              "    .dataframe tbody tr th:only-of-type {\n",
              "        vertical-align: middle;\n",
              "    }\n",
              "\n",
              "    .dataframe tbody tr th {\n",
              "        vertical-align: top;\n",
              "    }\n",
              "\n",
              "    .dataframe thead th {\n",
              "        text-align: right;\n",
              "    }\n",
              "</style>\n",
              "<table border=\"1\" class=\"dataframe\">\n",
              "  <thead>\n",
              "    <tr style=\"text-align: right;\">\n",
              "      <th></th>\n",
              "      <th>법정동코드</th>\n",
              "      <th>시도명</th>\n",
              "      <th>시군구명</th>\n",
              "      <th>읍면동명</th>\n",
              "    </tr>\n",
              "  </thead>\n",
              "  <tbody>\n",
              "    <tr>\n",
              "      <th>2</th>\n",
              "      <td>1111010100</td>\n",
              "      <td>서울특별시</td>\n",
              "      <td>종로구</td>\n",
              "      <td>청운동</td>\n",
              "    </tr>\n",
              "    <tr>\n",
              "      <th>3</th>\n",
              "      <td>1111010200</td>\n",
              "      <td>서울특별시</td>\n",
              "      <td>종로구</td>\n",
              "      <td>신교동</td>\n",
              "    </tr>\n",
              "    <tr>\n",
              "      <th>4</th>\n",
              "      <td>1111010300</td>\n",
              "      <td>서울특별시</td>\n",
              "      <td>종로구</td>\n",
              "      <td>궁정동</td>\n",
              "    </tr>\n",
              "    <tr>\n",
              "      <th>5</th>\n",
              "      <td>1111010400</td>\n",
              "      <td>서울특별시</td>\n",
              "      <td>종로구</td>\n",
              "      <td>효자동</td>\n",
              "    </tr>\n",
              "    <tr>\n",
              "      <th>6</th>\n",
              "      <td>1111010500</td>\n",
              "      <td>서울특별시</td>\n",
              "      <td>종로구</td>\n",
              "      <td>창성동</td>\n",
              "    </tr>\n",
              "  </tbody>\n",
              "</table>\n",
              "</div>"
            ],
            "text/plain": [
              "        법정동코드    시도명 시군구명 읍면동명\n",
              "2  1111010100  서울특별시  종로구  청운동\n",
              "3  1111010200  서울특별시  종로구  신교동\n",
              "4  1111010300  서울특별시  종로구  궁정동\n",
              "5  1111010400  서울특별시  종로구  효자동\n",
              "6  1111010500  서울특별시  종로구  창성동"
            ]
          },
          "metadata": {},
          "output_type": "display_data"
        }
      ],
      "source": [
        "# 데이터 분석에 필요없는 컬럼들은 전부 drop하고, 마찬가지로 읍면동명이 NaN인 행들도 전부 drop한다.\n",
        "# 단, 여기서는 읍면동에 대한 법정동 코드를 구하기 위해 다 날리지만 시군구명을 사용할시는 다르게 처리해야함.\n",
        "\n",
        "cd = cd.drop(columns=['리명', '순위', '생성일자', '삭제일자', '과거법정동코드'])\n",
        "cd = cd.dropna(subset=['읍면동명'])\n",
        "display(cd.head())"
      ]
    },
    {
      "cell_type": "code",
      "execution_count": 24,
      "metadata": {
        "colab": {
          "base_uri": "https://localhost:8080/",
          "height": 206
        },
        "id": "ron0ojuRYyX2",
        "outputId": "13789055-7f1b-400a-87ae-a46ad124e5cc"
      },
      "outputs": [
        {
          "data": {
            "text/html": [
              "<div>\n",
              "<style scoped>\n",
              "    .dataframe tbody tr th:only-of-type {\n",
              "        vertical-align: middle;\n",
              "    }\n",
              "\n",
              "    .dataframe tbody tr th {\n",
              "        vertical-align: top;\n",
              "    }\n",
              "\n",
              "    .dataframe thead th {\n",
              "        text-align: right;\n",
              "    }\n",
              "</style>\n",
              "<table border=\"1\" class=\"dataframe\">\n",
              "  <thead>\n",
              "    <tr style=\"text-align: right;\">\n",
              "      <th></th>\n",
              "      <th>법정동코드</th>\n",
              "      <th>시도명</th>\n",
              "      <th>시군구명</th>\n",
              "      <th>읍면동명</th>\n",
              "    </tr>\n",
              "  </thead>\n",
              "  <tbody>\n",
              "    <tr>\n",
              "      <th>2</th>\n",
              "      <td>1111010100</td>\n",
              "      <td>서울특별시</td>\n",
              "      <td>종로구</td>\n",
              "      <td>청운동</td>\n",
              "    </tr>\n",
              "    <tr>\n",
              "      <th>3</th>\n",
              "      <td>1111010200</td>\n",
              "      <td>서울특별시</td>\n",
              "      <td>종로구</td>\n",
              "      <td>신교동</td>\n",
              "    </tr>\n",
              "    <tr>\n",
              "      <th>4</th>\n",
              "      <td>1111010300</td>\n",
              "      <td>서울특별시</td>\n",
              "      <td>종로구</td>\n",
              "      <td>궁정동</td>\n",
              "    </tr>\n",
              "    <tr>\n",
              "      <th>5</th>\n",
              "      <td>1111010400</td>\n",
              "      <td>서울특별시</td>\n",
              "      <td>종로구</td>\n",
              "      <td>효자동</td>\n",
              "    </tr>\n",
              "    <tr>\n",
              "      <th>6</th>\n",
              "      <td>1111010500</td>\n",
              "      <td>서울특별시</td>\n",
              "      <td>종로구</td>\n",
              "      <td>창성동</td>\n",
              "    </tr>\n",
              "  </tbody>\n",
              "</table>\n",
              "</div>"
            ],
            "text/plain": [
              "        법정동코드    시도명 시군구명 읍면동명\n",
              "2  1111010100  서울특별시  종로구  청운동\n",
              "3  1111010200  서울특별시  종로구  신교동\n",
              "4  1111010300  서울특별시  종로구  궁정동\n",
              "5  1111010400  서울특별시  종로구  효자동\n",
              "6  1111010500  서울특별시  종로구  창성동"
            ]
          },
          "metadata": {},
          "output_type": "display_data"
        }
      ],
      "source": [
        "# '법정동코드' 컬럼을 기준으로 중복된 행 제거 (첫 번째 행 유지)\n",
        "cd = cd.drop_duplicates(subset=['법정동코드'], keep='first')\n",
        "\n",
        "display(cd.head())"
      ]
    },
    {
      "cell_type": "code",
      "execution_count": 25,
      "metadata": {
        "colab": {
          "base_uri": "https://localhost:8080/",
          "height": 206
        },
        "id": "ZVj9AaRUZFU_",
        "outputId": "de467d70-dad4-4a3c-9dc9-81e605968560"
      },
      "outputs": [
        {
          "data": {
            "text/html": [
              "<div>\n",
              "<style scoped>\n",
              "    .dataframe tbody tr th:only-of-type {\n",
              "        vertical-align: middle;\n",
              "    }\n",
              "\n",
              "    .dataframe tbody tr th {\n",
              "        vertical-align: top;\n",
              "    }\n",
              "\n",
              "    .dataframe thead th {\n",
              "        text-align: right;\n",
              "    }\n",
              "</style>\n",
              "<table border=\"1\" class=\"dataframe\">\n",
              "  <thead>\n",
              "    <tr style=\"text-align: right;\">\n",
              "      <th></th>\n",
              "      <th>법정동코드</th>\n",
              "      <th>시도명</th>\n",
              "      <th>시군구명</th>\n",
              "      <th>읍면동명</th>\n",
              "    </tr>\n",
              "  </thead>\n",
              "  <tbody>\n",
              "    <tr>\n",
              "      <th>2</th>\n",
              "      <td>1111010100</td>\n",
              "      <td>서울특별시</td>\n",
              "      <td>종로구</td>\n",
              "      <td>청운동</td>\n",
              "    </tr>\n",
              "    <tr>\n",
              "      <th>3</th>\n",
              "      <td>1111010200</td>\n",
              "      <td>서울특별시</td>\n",
              "      <td>종로구</td>\n",
              "      <td>신교동</td>\n",
              "    </tr>\n",
              "    <tr>\n",
              "      <th>4</th>\n",
              "      <td>1111010300</td>\n",
              "      <td>서울특별시</td>\n",
              "      <td>종로구</td>\n",
              "      <td>궁정동</td>\n",
              "    </tr>\n",
              "    <tr>\n",
              "      <th>5</th>\n",
              "      <td>1111010400</td>\n",
              "      <td>서울특별시</td>\n",
              "      <td>종로구</td>\n",
              "      <td>효자동</td>\n",
              "    </tr>\n",
              "    <tr>\n",
              "      <th>6</th>\n",
              "      <td>1111010500</td>\n",
              "      <td>서울특별시</td>\n",
              "      <td>종로구</td>\n",
              "      <td>창성동</td>\n",
              "    </tr>\n",
              "  </tbody>\n",
              "</table>\n",
              "</div>"
            ],
            "text/plain": [
              "        법정동코드    시도명 시군구명 읍면동명\n",
              "2  1111010100  서울특별시  종로구  청운동\n",
              "3  1111010200  서울특별시  종로구  신교동\n",
              "4  1111010300  서울특별시  종로구  궁정동\n",
              "5  1111010400  서울특별시  종로구  효자동\n",
              "6  1111010500  서울특별시  종로구  창성동"
            ]
          },
          "metadata": {},
          "output_type": "display_data"
        }
      ],
      "source": [
        "# '시도명', '시군구명', '읍면동명' 컬럼 조합을 기준으로 중복된 행 제거 (첫 번째 행 유지)\n",
        "cd = cd.drop_duplicates(subset=['시도명', '시군구명', '읍면동명'], keep='first')\n",
        "\n",
        "display(cd.head())"
      ]
    },
    {
      "cell_type": "markdown",
      "metadata": {
        "id": "nFW5Og8yqwHA"
      },
      "source": [
        "### 1. 행정구역별 15세 미만 인구수"
      ]
    },
    {
      "cell_type": "code",
      "execution_count": 26,
      "metadata": {
        "colab": {
          "base_uri": "https://localhost:8080/"
        },
        "id": "xeVD25aAHC8J",
        "outputId": "73f8b714-774b-4400-e5b2-efb387974bc4"
      },
      "outputs": [
        {
          "name": "stderr",
          "output_type": "stream",
          "text": [
            "c:\\Users\\Metato\\AppData\\Local\\Programs\\Python\\Python310\\lib\\site-packages\\openpyxl\\styles\\stylesheet.py:237: UserWarning: Workbook contains no default style, apply openpyxl's default\n",
            "  warn(\"Workbook contains no default style, apply openpyxl's default\")\n"
          ]
        }
      ],
      "source": [
        "# 읍면동 별 아동 인구수 데이터를 불러온다.\n",
        "pop15 = pd.read_excel(r'../data/raw/읍면동_15세미만.xlsx')"
      ]
    },
    {
      "cell_type": "code",
      "execution_count": 27,
      "metadata": {
        "colab": {
          "base_uri": "https://localhost:8080/",
          "height": 206
        },
        "id": "MBaPwxA-HJhb",
        "outputId": "d20489d8-71f1-4bb4-da04-0d662650c990"
      },
      "outputs": [
        {
          "data": {
            "text/html": [
              "<div>\n",
              "<style scoped>\n",
              "    .dataframe tbody tr th:only-of-type {\n",
              "        vertical-align: middle;\n",
              "    }\n",
              "\n",
              "    .dataframe tbody tr th {\n",
              "        vertical-align: top;\n",
              "    }\n",
              "\n",
              "    .dataframe thead th {\n",
              "        text-align: right;\n",
              "    }\n",
              "</style>\n",
              "<table border=\"1\" class=\"dataframe\">\n",
              "  <thead>\n",
              "    <tr style=\"text-align: right;\">\n",
              "      <th></th>\n",
              "      <th>행정구역별(읍면동)(1)</th>\n",
              "      <th>행정구역별(읍면동)(2)</th>\n",
              "      <th>행정구역별(읍면동)(3)</th>\n",
              "      <th>연령별(1)</th>\n",
              "      <th>2024</th>\n",
              "    </tr>\n",
              "  </thead>\n",
              "  <tbody>\n",
              "    <tr>\n",
              "      <th>0</th>\n",
              "      <td>행정구역별(읍면동)(1)</td>\n",
              "      <td>행정구역별(읍면동)(2)</td>\n",
              "      <td>행정구역별(읍면동)(3)</td>\n",
              "      <td>연령별(1)</td>\n",
              "      <td>총인구(명)</td>\n",
              "    </tr>\n",
              "    <tr>\n",
              "      <th>1</th>\n",
              "      <td>서울특별시</td>\n",
              "      <td>소계</td>\n",
              "      <td>소계</td>\n",
              "      <td>15세미만</td>\n",
              "      <td>807110</td>\n",
              "    </tr>\n",
              "    <tr>\n",
              "      <th>2</th>\n",
              "      <td>NaN</td>\n",
              "      <td>종로구</td>\n",
              "      <td>소계</td>\n",
              "      <td>15세미만</td>\n",
              "      <td>9276</td>\n",
              "    </tr>\n",
              "    <tr>\n",
              "      <th>3</th>\n",
              "      <td>NaN</td>\n",
              "      <td>NaN</td>\n",
              "      <td>사직동</td>\n",
              "      <td>15세미만</td>\n",
              "      <td>619</td>\n",
              "    </tr>\n",
              "    <tr>\n",
              "      <th>4</th>\n",
              "      <td>NaN</td>\n",
              "      <td>NaN</td>\n",
              "      <td>삼청동</td>\n",
              "      <td>15세미만</td>\n",
              "      <td>130</td>\n",
              "    </tr>\n",
              "  </tbody>\n",
              "</table>\n",
              "</div>"
            ],
            "text/plain": [
              "   행정구역별(읍면동)(1)  행정구역별(읍면동)(2)  행정구역별(읍면동)(3)  연령별(1)    2024\n",
              "0  행정구역별(읍면동)(1)  행정구역별(읍면동)(2)  행정구역별(읍면동)(3)  연령별(1)  총인구(명)\n",
              "1          서울특별시             소계             소계   15세미만  807110\n",
              "2            NaN            종로구             소계   15세미만    9276\n",
              "3            NaN            NaN            사직동   15세미만     619\n",
              "4            NaN            NaN            삼청동   15세미만     130"
            ]
          },
          "execution_count": 27,
          "metadata": {},
          "output_type": "execute_result"
        }
      ],
      "source": [
        "pop15.head()"
      ]
    },
    {
      "cell_type": "code",
      "execution_count": 28,
      "metadata": {
        "colab": {
          "base_uri": "https://localhost:8080/",
          "height": 206
        },
        "id": "LbUPa19vQ-na",
        "outputId": "357e66af-bc1f-49d1-dcd8-16255c85377e"
      },
      "outputs": [
        {
          "data": {
            "text/html": [
              "<div>\n",
              "<style scoped>\n",
              "    .dataframe tbody tr th:only-of-type {\n",
              "        vertical-align: middle;\n",
              "    }\n",
              "\n",
              "    .dataframe tbody tr th {\n",
              "        vertical-align: top;\n",
              "    }\n",
              "\n",
              "    .dataframe thead th {\n",
              "        text-align: right;\n",
              "    }\n",
              "</style>\n",
              "<table border=\"1\" class=\"dataframe\">\n",
              "  <thead>\n",
              "    <tr style=\"text-align: right;\">\n",
              "      <th></th>\n",
              "      <th>행정구역별(읍면동)(1)</th>\n",
              "      <th>행정구역별(읍면동)(2)</th>\n",
              "      <th>행정구역별(읍면동)(3)</th>\n",
              "      <th>연령별(1)</th>\n",
              "      <th>총인구(명)</th>\n",
              "    </tr>\n",
              "  </thead>\n",
              "  <tbody>\n",
              "    <tr>\n",
              "      <th>0</th>\n",
              "      <td>서울특별시</td>\n",
              "      <td>소계</td>\n",
              "      <td>소계</td>\n",
              "      <td>15세미만</td>\n",
              "      <td>807110</td>\n",
              "    </tr>\n",
              "    <tr>\n",
              "      <th>1</th>\n",
              "      <td>NaN</td>\n",
              "      <td>종로구</td>\n",
              "      <td>소계</td>\n",
              "      <td>15세미만</td>\n",
              "      <td>9276</td>\n",
              "    </tr>\n",
              "    <tr>\n",
              "      <th>2</th>\n",
              "      <td>NaN</td>\n",
              "      <td>NaN</td>\n",
              "      <td>사직동</td>\n",
              "      <td>15세미만</td>\n",
              "      <td>619</td>\n",
              "    </tr>\n",
              "    <tr>\n",
              "      <th>3</th>\n",
              "      <td>NaN</td>\n",
              "      <td>NaN</td>\n",
              "      <td>삼청동</td>\n",
              "      <td>15세미만</td>\n",
              "      <td>130</td>\n",
              "    </tr>\n",
              "    <tr>\n",
              "      <th>4</th>\n",
              "      <td>NaN</td>\n",
              "      <td>NaN</td>\n",
              "      <td>부암동</td>\n",
              "      <td>15세미만</td>\n",
              "      <td>683</td>\n",
              "    </tr>\n",
              "  </tbody>\n",
              "</table>\n",
              "</div>"
            ],
            "text/plain": [
              "0 행정구역별(읍면동)(1) 행정구역별(읍면동)(2) 행정구역별(읍면동)(3) 연령별(1)  총인구(명)\n",
              "0         서울특별시            소계            소계  15세미만  807110\n",
              "1           NaN           종로구            소계  15세미만    9276\n",
              "2           NaN           NaN           사직동  15세미만     619\n",
              "3           NaN           NaN           삼청동  15세미만     130\n",
              "4           NaN           NaN           부암동  15세미만     683"
            ]
          },
          "metadata": {},
          "output_type": "display_data"
        }
      ],
      "source": [
        "# 첫 번째 행을 컬럼 헤더로 설정\n",
        "pop15.columns = pop15.iloc[0]\n",
        "\n",
        "# 첫 번째 행 삭제\n",
        "pop15 = pop15[1:].reset_index(drop=True)\n",
        "\n",
        "display(pop15.head())"
      ]
    },
    {
      "cell_type": "code",
      "execution_count": 29,
      "metadata": {
        "colab": {
          "base_uri": "https://localhost:8080/",
          "height": 206
        },
        "id": "10HrGPv3Sp8c",
        "outputId": "301738b3-7510-452c-f9da-7b6c21e3fd7b"
      },
      "outputs": [
        {
          "data": {
            "text/html": [
              "<div>\n",
              "<style scoped>\n",
              "    .dataframe tbody tr th:only-of-type {\n",
              "        vertical-align: middle;\n",
              "    }\n",
              "\n",
              "    .dataframe tbody tr th {\n",
              "        vertical-align: top;\n",
              "    }\n",
              "\n",
              "    .dataframe thead th {\n",
              "        text-align: right;\n",
              "    }\n",
              "</style>\n",
              "<table border=\"1\" class=\"dataframe\">\n",
              "  <thead>\n",
              "    <tr style=\"text-align: right;\">\n",
              "      <th></th>\n",
              "      <th>행정구역별(읍면동)(1)</th>\n",
              "      <th>행정구역별(읍면동)(2)</th>\n",
              "      <th>행정구역별(읍면동)(3)</th>\n",
              "      <th>연령별(1)</th>\n",
              "      <th>총인구(명)</th>\n",
              "    </tr>\n",
              "  </thead>\n",
              "  <tbody>\n",
              "    <tr>\n",
              "      <th>0</th>\n",
              "      <td>서울특별시</td>\n",
              "      <td>소계</td>\n",
              "      <td>소계</td>\n",
              "      <td>15세미만</td>\n",
              "      <td>807110</td>\n",
              "    </tr>\n",
              "    <tr>\n",
              "      <th>1</th>\n",
              "      <td>서울특별시</td>\n",
              "      <td>종로구</td>\n",
              "      <td>소계</td>\n",
              "      <td>15세미만</td>\n",
              "      <td>9276</td>\n",
              "    </tr>\n",
              "    <tr>\n",
              "      <th>2</th>\n",
              "      <td>서울특별시</td>\n",
              "      <td>종로구</td>\n",
              "      <td>사직동</td>\n",
              "      <td>15세미만</td>\n",
              "      <td>619</td>\n",
              "    </tr>\n",
              "    <tr>\n",
              "      <th>3</th>\n",
              "      <td>서울특별시</td>\n",
              "      <td>종로구</td>\n",
              "      <td>삼청동</td>\n",
              "      <td>15세미만</td>\n",
              "      <td>130</td>\n",
              "    </tr>\n",
              "    <tr>\n",
              "      <th>4</th>\n",
              "      <td>서울특별시</td>\n",
              "      <td>종로구</td>\n",
              "      <td>부암동</td>\n",
              "      <td>15세미만</td>\n",
              "      <td>683</td>\n",
              "    </tr>\n",
              "  </tbody>\n",
              "</table>\n",
              "</div>"
            ],
            "text/plain": [
              "0 행정구역별(읍면동)(1) 행정구역별(읍면동)(2) 행정구역별(읍면동)(3) 연령별(1)  총인구(명)\n",
              "0         서울특별시            소계            소계  15세미만  807110\n",
              "1         서울특별시           종로구            소계  15세미만    9276\n",
              "2         서울특별시           종로구           사직동  15세미만     619\n",
              "3         서울특별시           종로구           삼청동  15세미만     130\n",
              "4         서울특별시           종로구           부암동  15세미만     683"
            ]
          },
          "metadata": {},
          "output_type": "display_data"
        }
      ],
      "source": [
        "# '행정구역별(읍면동)(1)', '행정구역별(읍면동)(2)', '행정구역별(읍면동)(3)' 컬럼의 NaN 값을 앞의 값으로 채우기\n",
        "pop15['행정구역별(읍면동)(1)'] = pop15['행정구역별(읍면동)(1)'].ffill()\n",
        "pop15['행정구역별(읍면동)(2)'] = pop15['행정구역별(읍면동)(2)'].ffill()\n",
        "pop15['행정구역별(읍면동)(3)'] = pop15['행정구역별(읍면동)(3)'].ffill()\n",
        "\n",
        "display(pop15.head())"
      ]
    },
    {
      "cell_type": "code",
      "execution_count": 30,
      "metadata": {
        "colab": {
          "base_uri": "https://localhost:8080/",
          "height": 206
        },
        "id": "GvE0AuuwTDm8",
        "outputId": "1ffa086b-b2fb-45ba-ad27-7b6c6d1b23f5"
      },
      "outputs": [
        {
          "data": {
            "text/html": [
              "<div>\n",
              "<style scoped>\n",
              "    .dataframe tbody tr th:only-of-type {\n",
              "        vertical-align: middle;\n",
              "    }\n",
              "\n",
              "    .dataframe tbody tr th {\n",
              "        vertical-align: top;\n",
              "    }\n",
              "\n",
              "    .dataframe thead th {\n",
              "        text-align: right;\n",
              "    }\n",
              "</style>\n",
              "<table border=\"1\" class=\"dataframe\">\n",
              "  <thead>\n",
              "    <tr style=\"text-align: right;\">\n",
              "      <th></th>\n",
              "      <th>행정구역별(읍면동)(1)</th>\n",
              "      <th>행정구역별(읍면동)(2)</th>\n",
              "      <th>행정구역별(읍면동)(3)</th>\n",
              "      <th>연령별(1)</th>\n",
              "      <th>총인구(명)</th>\n",
              "    </tr>\n",
              "  </thead>\n",
              "  <tbody>\n",
              "    <tr>\n",
              "      <th>0</th>\n",
              "      <td>서울특별시</td>\n",
              "      <td>종로구</td>\n",
              "      <td>사직동</td>\n",
              "      <td>15세미만</td>\n",
              "      <td>619</td>\n",
              "    </tr>\n",
              "    <tr>\n",
              "      <th>1</th>\n",
              "      <td>서울특별시</td>\n",
              "      <td>종로구</td>\n",
              "      <td>삼청동</td>\n",
              "      <td>15세미만</td>\n",
              "      <td>130</td>\n",
              "    </tr>\n",
              "    <tr>\n",
              "      <th>2</th>\n",
              "      <td>서울특별시</td>\n",
              "      <td>종로구</td>\n",
              "      <td>부암동</td>\n",
              "      <td>15세미만</td>\n",
              "      <td>683</td>\n",
              "    </tr>\n",
              "    <tr>\n",
              "      <th>3</th>\n",
              "      <td>서울특별시</td>\n",
              "      <td>종로구</td>\n",
              "      <td>평창동</td>\n",
              "      <td>15세미만</td>\n",
              "      <td>1484</td>\n",
              "    </tr>\n",
              "    <tr>\n",
              "      <th>4</th>\n",
              "      <td>서울특별시</td>\n",
              "      <td>종로구</td>\n",
              "      <td>무악동</td>\n",
              "      <td>15세미만</td>\n",
              "      <td>903</td>\n",
              "    </tr>\n",
              "  </tbody>\n",
              "</table>\n",
              "</div>"
            ],
            "text/plain": [
              "0 행정구역별(읍면동)(1) 행정구역별(읍면동)(2) 행정구역별(읍면동)(3) 연령별(1) 총인구(명)\n",
              "0         서울특별시           종로구           사직동  15세미만    619\n",
              "1         서울특별시           종로구           삼청동  15세미만    130\n",
              "2         서울특별시           종로구           부암동  15세미만    683\n",
              "3         서울특별시           종로구           평창동  15세미만   1484\n",
              "4         서울특별시           종로구           무악동  15세미만    903"
            ]
          },
          "metadata": {},
          "output_type": "display_data"
        }
      ],
      "source": [
        "# '행정구역별(읍면동)(3)' 컬럼의 값이 '소계'인 행들 삭제\n",
        "pop15 = pop15[pop15['행정구역별(읍면동)(3)'] != '소계'].reset_index(drop=True)\n",
        "\n",
        "display(pop15.head())"
      ]
    },
    {
      "cell_type": "code",
      "execution_count": 31,
      "metadata": {
        "colab": {
          "base_uri": "https://localhost:8080/",
          "height": 206
        },
        "id": "z35oDhxcTbsd",
        "outputId": "21d18aa9-5e4b-4484-fd6b-0d0c8556b53b"
      },
      "outputs": [
        {
          "data": {
            "text/html": [
              "<div>\n",
              "<style scoped>\n",
              "    .dataframe tbody tr th:only-of-type {\n",
              "        vertical-align: middle;\n",
              "    }\n",
              "\n",
              "    .dataframe tbody tr th {\n",
              "        vertical-align: top;\n",
              "    }\n",
              "\n",
              "    .dataframe thead th {\n",
              "        text-align: right;\n",
              "    }\n",
              "</style>\n",
              "<table border=\"1\" class=\"dataframe\">\n",
              "  <thead>\n",
              "    <tr style=\"text-align: right;\">\n",
              "      <th></th>\n",
              "      <th>시도명</th>\n",
              "      <th>시군구명</th>\n",
              "      <th>읍면동명</th>\n",
              "      <th>연령별(1)</th>\n",
              "      <th>총인구(명)</th>\n",
              "    </tr>\n",
              "  </thead>\n",
              "  <tbody>\n",
              "    <tr>\n",
              "      <th>0</th>\n",
              "      <td>서울특별시</td>\n",
              "      <td>종로구</td>\n",
              "      <td>사직동</td>\n",
              "      <td>15세미만</td>\n",
              "      <td>619</td>\n",
              "    </tr>\n",
              "    <tr>\n",
              "      <th>1</th>\n",
              "      <td>서울특별시</td>\n",
              "      <td>종로구</td>\n",
              "      <td>삼청동</td>\n",
              "      <td>15세미만</td>\n",
              "      <td>130</td>\n",
              "    </tr>\n",
              "    <tr>\n",
              "      <th>2</th>\n",
              "      <td>서울특별시</td>\n",
              "      <td>종로구</td>\n",
              "      <td>부암동</td>\n",
              "      <td>15세미만</td>\n",
              "      <td>683</td>\n",
              "    </tr>\n",
              "    <tr>\n",
              "      <th>3</th>\n",
              "      <td>서울특별시</td>\n",
              "      <td>종로구</td>\n",
              "      <td>평창동</td>\n",
              "      <td>15세미만</td>\n",
              "      <td>1484</td>\n",
              "    </tr>\n",
              "    <tr>\n",
              "      <th>4</th>\n",
              "      <td>서울특별시</td>\n",
              "      <td>종로구</td>\n",
              "      <td>무악동</td>\n",
              "      <td>15세미만</td>\n",
              "      <td>903</td>\n",
              "    </tr>\n",
              "  </tbody>\n",
              "</table>\n",
              "</div>"
            ],
            "text/plain": [
              "0    시도명 시군구명 읍면동명 연령별(1) 총인구(명)\n",
              "0  서울특별시  종로구  사직동  15세미만    619\n",
              "1  서울특별시  종로구  삼청동  15세미만    130\n",
              "2  서울특별시  종로구  부암동  15세미만    683\n",
              "3  서울특별시  종로구  평창동  15세미만   1484\n",
              "4  서울특별시  종로구  무악동  15세미만    903"
            ]
          },
          "metadata": {},
          "output_type": "display_data"
        }
      ],
      "source": [
        "# 컬럼 이름 변경\n",
        "pop15 = pop15.rename(columns={'행정구역별(읍면동)(1)': '시도명', '행정구역별(읍면동)(2)': '시군구명', '행정구역별(읍면동)(3)': '읍면동명'})\n",
        "\n",
        "display(pop15.head())"
      ]
    },
    {
      "cell_type": "code",
      "execution_count": 32,
      "metadata": {
        "colab": {
          "base_uri": "https://localhost:8080/",
          "height": 206
        },
        "id": "BhYk2UjFTpW0",
        "outputId": "a35be51a-72bd-4bda-b883-cf9305797773"
      },
      "outputs": [
        {
          "data": {
            "text/html": [
              "<div>\n",
              "<style scoped>\n",
              "    .dataframe tbody tr th:only-of-type {\n",
              "        vertical-align: middle;\n",
              "    }\n",
              "\n",
              "    .dataframe tbody tr th {\n",
              "        vertical-align: top;\n",
              "    }\n",
              "\n",
              "    .dataframe thead th {\n",
              "        text-align: right;\n",
              "    }\n",
              "</style>\n",
              "<table border=\"1\" class=\"dataframe\">\n",
              "  <thead>\n",
              "    <tr style=\"text-align: right;\">\n",
              "      <th></th>\n",
              "      <th>시도명</th>\n",
              "      <th>시군구명</th>\n",
              "      <th>읍면동명</th>\n",
              "      <th>아동인구수</th>\n",
              "    </tr>\n",
              "  </thead>\n",
              "  <tbody>\n",
              "    <tr>\n",
              "      <th>0</th>\n",
              "      <td>서울특별시</td>\n",
              "      <td>종로구</td>\n",
              "      <td>사직동</td>\n",
              "      <td>619</td>\n",
              "    </tr>\n",
              "    <tr>\n",
              "      <th>1</th>\n",
              "      <td>서울특별시</td>\n",
              "      <td>종로구</td>\n",
              "      <td>삼청동</td>\n",
              "      <td>130</td>\n",
              "    </tr>\n",
              "    <tr>\n",
              "      <th>2</th>\n",
              "      <td>서울특별시</td>\n",
              "      <td>종로구</td>\n",
              "      <td>부암동</td>\n",
              "      <td>683</td>\n",
              "    </tr>\n",
              "    <tr>\n",
              "      <th>3</th>\n",
              "      <td>서울특별시</td>\n",
              "      <td>종로구</td>\n",
              "      <td>평창동</td>\n",
              "      <td>1484</td>\n",
              "    </tr>\n",
              "    <tr>\n",
              "      <th>4</th>\n",
              "      <td>서울특별시</td>\n",
              "      <td>종로구</td>\n",
              "      <td>무악동</td>\n",
              "      <td>903</td>\n",
              "    </tr>\n",
              "  </tbody>\n",
              "</table>\n",
              "</div>"
            ],
            "text/plain": [
              "0    시도명 시군구명 읍면동명 아동인구수\n",
              "0  서울특별시  종로구  사직동   619\n",
              "1  서울특별시  종로구  삼청동   130\n",
              "2  서울특별시  종로구  부암동   683\n",
              "3  서울특별시  종로구  평창동  1484\n",
              "4  서울특별시  종로구  무악동   903"
            ]
          },
          "metadata": {},
          "output_type": "display_data"
        }
      ],
      "source": [
        "# '연령별(1)' 컬럼 삭제\n",
        "pop15 = pop15.drop(columns=['연령별(1)'])\n",
        "\n",
        "# '총인구(명)' 컬럼 이름을 '아동인구수'로 변경\n",
        "pop15 = pop15.rename(columns={'총인구(명)': '아동인구수'})\n",
        "\n",
        "display(pop15.head())"
      ]
    },
    {
      "cell_type": "code",
      "execution_count": 33,
      "metadata": {
        "colab": {
          "base_uri": "https://localhost:8080/",
          "height": 206
        },
        "id": "jWrfZ7dqV39-",
        "outputId": "b3b96fe6-449f-4c5e-96ee-cbcad2c17d30"
      },
      "outputs": [
        {
          "data": {
            "text/html": [
              "<div>\n",
              "<style scoped>\n",
              "    .dataframe tbody tr th:only-of-type {\n",
              "        vertical-align: middle;\n",
              "    }\n",
              "\n",
              "    .dataframe tbody tr th {\n",
              "        vertical-align: top;\n",
              "    }\n",
              "\n",
              "    .dataframe thead th {\n",
              "        text-align: right;\n",
              "    }\n",
              "</style>\n",
              "<table border=\"1\" class=\"dataframe\">\n",
              "  <thead>\n",
              "    <tr style=\"text-align: right;\">\n",
              "      <th></th>\n",
              "      <th>시도명</th>\n",
              "      <th>시군구명</th>\n",
              "      <th>읍면동명</th>\n",
              "      <th>아동인구수</th>\n",
              "    </tr>\n",
              "  </thead>\n",
              "  <tbody>\n",
              "    <tr>\n",
              "      <th>0</th>\n",
              "      <td>서울특별시</td>\n",
              "      <td>종로구</td>\n",
              "      <td>사직동</td>\n",
              "      <td>619</td>\n",
              "    </tr>\n",
              "    <tr>\n",
              "      <th>1</th>\n",
              "      <td>서울특별시</td>\n",
              "      <td>종로구</td>\n",
              "      <td>삼청동</td>\n",
              "      <td>130</td>\n",
              "    </tr>\n",
              "    <tr>\n",
              "      <th>2</th>\n",
              "      <td>서울특별시</td>\n",
              "      <td>종로구</td>\n",
              "      <td>부암동</td>\n",
              "      <td>683</td>\n",
              "    </tr>\n",
              "    <tr>\n",
              "      <th>3</th>\n",
              "      <td>서울특별시</td>\n",
              "      <td>종로구</td>\n",
              "      <td>평창동</td>\n",
              "      <td>1484</td>\n",
              "    </tr>\n",
              "    <tr>\n",
              "      <th>4</th>\n",
              "      <td>서울특별시</td>\n",
              "      <td>종로구</td>\n",
              "      <td>무악동</td>\n",
              "      <td>903</td>\n",
              "    </tr>\n",
              "  </tbody>\n",
              "</table>\n",
              "</div>"
            ],
            "text/plain": [
              "0    시도명 시군구명 읍면동명  아동인구수\n",
              "0  서울특별시  종로구  사직동    619\n",
              "1  서울특별시  종로구  삼청동    130\n",
              "2  서울특별시  종로구  부암동    683\n",
              "3  서울특별시  종로구  평창동   1484\n",
              "4  서울특별시  종로구  무악동    903"
            ]
          },
          "metadata": {},
          "output_type": "display_data"
        }
      ],
      "source": [
        "# '아동인구수' 컬럼의 데이터 타입을 숫자로 변환 (errors='coerce'를 사용하여 변환 불가능한 값은 NaN으로 처리)\n",
        "pop15['아동인구수'] = pd.to_numeric(pop15['아동인구수'], errors='coerce')\n",
        "\n",
        "# '아동인구수' 컬럼을 nullable integer 타입으로 변환 (NaN 포함 가능)\n",
        "pop15['아동인구수'] = pop15['아동인구수'].astype('Int64')\n",
        "\n",
        "display(pop15.head())"
      ]
    },
    {
      "cell_type": "markdown",
      "metadata": {
        "id": "_lY_7UaaHA_B"
      },
      "source": [
        "### 2. 행정구역별 65세 이상 인구수\n"
      ]
    },
    {
      "cell_type": "code",
      "execution_count": 36,
      "metadata": {
        "colab": {
          "base_uri": "https://localhost:8080/",
          "height": 242
        },
        "id": "akrpRDErUB1V",
        "outputId": "09d9ccca-23de-4d26-847c-02e0cf289e30"
      },
      "outputs": [
        {
          "name": "stderr",
          "output_type": "stream",
          "text": [
            "c:\\Users\\Metato\\AppData\\Local\\Programs\\Python\\Python310\\lib\\site-packages\\openpyxl\\styles\\stylesheet.py:237: UserWarning: Workbook contains no default style, apply openpyxl's default\n",
            "  warn(\"Workbook contains no default style, apply openpyxl's default\")\n"
          ]
        },
        {
          "data": {
            "text/html": [
              "<div>\n",
              "<style scoped>\n",
              "    .dataframe tbody tr th:only-of-type {\n",
              "        vertical-align: middle;\n",
              "    }\n",
              "\n",
              "    .dataframe tbody tr th {\n",
              "        vertical-align: top;\n",
              "    }\n",
              "\n",
              "    .dataframe thead th {\n",
              "        text-align: right;\n",
              "    }\n",
              "</style>\n",
              "<table border=\"1\" class=\"dataframe\">\n",
              "  <thead>\n",
              "    <tr style=\"text-align: right;\">\n",
              "      <th></th>\n",
              "      <th>행정구역별(읍면동)(1)</th>\n",
              "      <th>행정구역별(읍면동)(2)</th>\n",
              "      <th>행정구역별(읍면동)(3)</th>\n",
              "      <th>연령별(1)</th>\n",
              "      <th>2024</th>\n",
              "    </tr>\n",
              "  </thead>\n",
              "  <tbody>\n",
              "    <tr>\n",
              "      <th>0</th>\n",
              "      <td>행정구역별(읍면동)(1)</td>\n",
              "      <td>행정구역별(읍면동)(2)</td>\n",
              "      <td>행정구역별(읍면동)(3)</td>\n",
              "      <td>연령별(1)</td>\n",
              "      <td>총인구(명)</td>\n",
              "    </tr>\n",
              "    <tr>\n",
              "      <th>1</th>\n",
              "      <td>서울특별시</td>\n",
              "      <td>소계</td>\n",
              "      <td>소계</td>\n",
              "      <td>65세이상</td>\n",
              "      <td>1791491</td>\n",
              "    </tr>\n",
              "    <tr>\n",
              "      <th>2</th>\n",
              "      <td>NaN</td>\n",
              "      <td>종로구</td>\n",
              "      <td>소계</td>\n",
              "      <td>65세이상</td>\n",
              "      <td>28376</td>\n",
              "    </tr>\n",
              "    <tr>\n",
              "      <th>3</th>\n",
              "      <td>NaN</td>\n",
              "      <td>NaN</td>\n",
              "      <td>사직동</td>\n",
              "      <td>65세이상</td>\n",
              "      <td>1826</td>\n",
              "    </tr>\n",
              "    <tr>\n",
              "      <th>4</th>\n",
              "      <td>NaN</td>\n",
              "      <td>NaN</td>\n",
              "      <td>삼청동</td>\n",
              "      <td>65세이상</td>\n",
              "      <td>577</td>\n",
              "    </tr>\n",
              "  </tbody>\n",
              "</table>\n",
              "</div>"
            ],
            "text/plain": [
              "   행정구역별(읍면동)(1)  행정구역별(읍면동)(2)  행정구역별(읍면동)(3)  연령별(1)     2024\n",
              "0  행정구역별(읍면동)(1)  행정구역별(읍면동)(2)  행정구역별(읍면동)(3)  연령별(1)   총인구(명)\n",
              "1          서울특별시             소계             소계   65세이상  1791491\n",
              "2            NaN            종로구             소계   65세이상    28376\n",
              "3            NaN            NaN            사직동   65세이상     1826\n",
              "4            NaN            NaN            삼청동   65세이상      577"
            ]
          },
          "execution_count": 36,
          "metadata": {},
          "output_type": "execute_result"
        }
      ],
      "source": [
        "# 읍면동 별 고령자 인구수 데이터를 불러온다.\n",
        "pop65 = pd.read_excel(r'../data/raw/읍면동_65세이상.xlsx')\n",
        "pop65.head()"
      ]
    },
    {
      "cell_type": "code",
      "execution_count": 37,
      "metadata": {
        "colab": {
          "base_uri": "https://localhost:8080/",
          "height": 206
        },
        "id": "ANK8DpUqUNdm",
        "outputId": "655e10a5-0464-45a5-ab75-c7862bb45f52"
      },
      "outputs": [
        {
          "data": {
            "text/html": [
              "<div>\n",
              "<style scoped>\n",
              "    .dataframe tbody tr th:only-of-type {\n",
              "        vertical-align: middle;\n",
              "    }\n",
              "\n",
              "    .dataframe tbody tr th {\n",
              "        vertical-align: top;\n",
              "    }\n",
              "\n",
              "    .dataframe thead th {\n",
              "        text-align: right;\n",
              "    }\n",
              "</style>\n",
              "<table border=\"1\" class=\"dataframe\">\n",
              "  <thead>\n",
              "    <tr style=\"text-align: right;\">\n",
              "      <th></th>\n",
              "      <th>시도명</th>\n",
              "      <th>시군구명</th>\n",
              "      <th>읍면동명</th>\n",
              "      <th>고령자인구수</th>\n",
              "    </tr>\n",
              "  </thead>\n",
              "  <tbody>\n",
              "    <tr>\n",
              "      <th>0</th>\n",
              "      <td>서울특별시</td>\n",
              "      <td>종로구</td>\n",
              "      <td>사직동</td>\n",
              "      <td>1826</td>\n",
              "    </tr>\n",
              "    <tr>\n",
              "      <th>1</th>\n",
              "      <td>서울특별시</td>\n",
              "      <td>종로구</td>\n",
              "      <td>삼청동</td>\n",
              "      <td>577</td>\n",
              "    </tr>\n",
              "    <tr>\n",
              "      <th>2</th>\n",
              "      <td>서울특별시</td>\n",
              "      <td>종로구</td>\n",
              "      <td>부암동</td>\n",
              "      <td>1953</td>\n",
              "    </tr>\n",
              "    <tr>\n",
              "      <th>3</th>\n",
              "      <td>서울특별시</td>\n",
              "      <td>종로구</td>\n",
              "      <td>평창동</td>\n",
              "      <td>3854</td>\n",
              "    </tr>\n",
              "    <tr>\n",
              "      <th>4</th>\n",
              "      <td>서울특별시</td>\n",
              "      <td>종로구</td>\n",
              "      <td>무악동</td>\n",
              "      <td>1492</td>\n",
              "    </tr>\n",
              "  </tbody>\n",
              "</table>\n",
              "</div>"
            ],
            "text/plain": [
              "0    시도명 시군구명 읍면동명 고령자인구수\n",
              "0  서울특별시  종로구  사직동   1826\n",
              "1  서울특별시  종로구  삼청동    577\n",
              "2  서울특별시  종로구  부암동   1953\n",
              "3  서울특별시  종로구  평창동   3854\n",
              "4  서울특별시  종로구  무악동   1492"
            ]
          },
          "metadata": {},
          "output_type": "display_data"
        }
      ],
      "source": [
        "# 첫 번째 행을 컬럼 헤더로 설정\n",
        "pop65.columns = pop65.iloc[0]\n",
        "\n",
        "# 첫 번째 행 삭제\n",
        "pop65 = pop65[1:].reset_index(drop=True)\n",
        "\n",
        "# '행정구역별(읍면동)(1)', '행정구역별(읍면동)(2)', '행정구역별(읍면동)(3)' 컬럼의 NaN 값을 앞의 값으로 채우기\n",
        "pop65['행정구역별(읍면동)(1)'] = pop65['행정구역별(읍면동)(1)'].ffill()\n",
        "pop65['행정구역별(읍면동)(2)'] = pop65['행정구역별(읍면동)(2)'].ffill()\n",
        "pop65['행정구역별(읍면동)(3)'] = pop65['행정구역별(읍면동)(3)'].ffill()\n",
        "\n",
        "# '행정구역별(읍면동)(3)' 컬럼의 값이 '소계'인 행들 삭제\n",
        "pop65 = pop65[pop65['행정구역별(읍면동)(3)'] != '소계'].reset_index(drop=True)\n",
        "\n",
        "# 컬럼 이름 변경\n",
        "pop65 = pop65.rename(columns={'행정구역별(읍면동)(1)': '시도명', '행정구역별(읍면동)(2)': '시군구명', '행정구역별(읍면동)(3)': '읍면동명'})\n",
        "\n",
        "# '연령별(1)' 컬럼 삭제\n",
        "pop65 = pop65.drop(columns=['연령별(1)'])\n",
        "\n",
        "# '총인구(명)' 컬럼 이름을 '고령자인구수'로 변경\n",
        "pop65 = pop65.rename(columns={'총인구(명)': '고령자인구수'})\n",
        "\n",
        "display(pop65.head())"
      ]
    },
    {
      "cell_type": "code",
      "execution_count": 38,
      "metadata": {
        "colab": {
          "base_uri": "https://localhost:8080/",
          "height": 206
        },
        "id": "bmCe43V3VqEV",
        "outputId": "43619930-e52a-49af-b59b-cb6612b47d26"
      },
      "outputs": [
        {
          "data": {
            "text/html": [
              "<div>\n",
              "<style scoped>\n",
              "    .dataframe tbody tr th:only-of-type {\n",
              "        vertical-align: middle;\n",
              "    }\n",
              "\n",
              "    .dataframe tbody tr th {\n",
              "        vertical-align: top;\n",
              "    }\n",
              "\n",
              "    .dataframe thead th {\n",
              "        text-align: right;\n",
              "    }\n",
              "</style>\n",
              "<table border=\"1\" class=\"dataframe\">\n",
              "  <thead>\n",
              "    <tr style=\"text-align: right;\">\n",
              "      <th></th>\n",
              "      <th>시도명</th>\n",
              "      <th>시군구명</th>\n",
              "      <th>읍면동명</th>\n",
              "      <th>고령자인구수</th>\n",
              "    </tr>\n",
              "  </thead>\n",
              "  <tbody>\n",
              "    <tr>\n",
              "      <th>0</th>\n",
              "      <td>서울특별시</td>\n",
              "      <td>종로구</td>\n",
              "      <td>사직동</td>\n",
              "      <td>1826</td>\n",
              "    </tr>\n",
              "    <tr>\n",
              "      <th>1</th>\n",
              "      <td>서울특별시</td>\n",
              "      <td>종로구</td>\n",
              "      <td>삼청동</td>\n",
              "      <td>577</td>\n",
              "    </tr>\n",
              "    <tr>\n",
              "      <th>2</th>\n",
              "      <td>서울특별시</td>\n",
              "      <td>종로구</td>\n",
              "      <td>부암동</td>\n",
              "      <td>1953</td>\n",
              "    </tr>\n",
              "    <tr>\n",
              "      <th>3</th>\n",
              "      <td>서울특별시</td>\n",
              "      <td>종로구</td>\n",
              "      <td>평창동</td>\n",
              "      <td>3854</td>\n",
              "    </tr>\n",
              "    <tr>\n",
              "      <th>4</th>\n",
              "      <td>서울특별시</td>\n",
              "      <td>종로구</td>\n",
              "      <td>무악동</td>\n",
              "      <td>1492</td>\n",
              "    </tr>\n",
              "  </tbody>\n",
              "</table>\n",
              "</div>"
            ],
            "text/plain": [
              "0    시도명 시군구명 읍면동명  고령자인구수\n",
              "0  서울특별시  종로구  사직동    1826\n",
              "1  서울특별시  종로구  삼청동     577\n",
              "2  서울특별시  종로구  부암동    1953\n",
              "3  서울특별시  종로구  평창동    3854\n",
              "4  서울특별시  종로구  무악동    1492"
            ]
          },
          "metadata": {},
          "output_type": "display_data"
        }
      ],
      "source": [
        "# '고령자인구수' 컬럼의 데이터 타입을 숫자로 변환 (errors='coerce'를 사용하여 변환 불가능한 값은 NaN으로 처리)\n",
        "pop65['고령자인구수'] = pd.to_numeric(pop65['고령자인구수'], errors='coerce')\n",
        "\n",
        "# 필요하다면 NaN 값을 처리 (예: 0으로 채우거나 해당 행 삭제) - 여기서는 NaN을 그대로 두고 nullable integer로 변환\n",
        "# '고령자인구수' 컬럼을 nullable integer 타입으로 변환 (NaN 포함 가능)\n",
        "pop65['고령자인구수'] = pop65['고령자인구수'].astype('Int64')\n",
        "\n",
        "display(pop65.head())"
      ]
    },
    {
      "cell_type": "markdown",
      "metadata": {
        "id": "rJGddeLarvIz"
      },
      "source": [
        "### 3. 행정구역별 외국인 인구수 (미숙한 한국어는 재난 발생시에 위험을 높힐 수 있기에 점수 계산에 포함)"
      ]
    },
    {
      "cell_type": "code",
      "execution_count": 39,
      "metadata": {
        "colab": {
          "base_uri": "https://localhost:8080/",
          "height": 242
        },
        "id": "tDbPKCD7Jwjm",
        "outputId": "a389e8f3-c8e5-40b5-eb95-a3724ac0c0b3"
      },
      "outputs": [
        {
          "name": "stderr",
          "output_type": "stream",
          "text": [
            "c:\\Users\\Metato\\AppData\\Local\\Programs\\Python\\Python310\\lib\\site-packages\\openpyxl\\styles\\stylesheet.py:237: UserWarning: Workbook contains no default style, apply openpyxl's default\n",
            "  warn(\"Workbook contains no default style, apply openpyxl's default\")\n"
          ]
        },
        {
          "data": {
            "text/html": [
              "<div>\n",
              "<style scoped>\n",
              "    .dataframe tbody tr th:only-of-type {\n",
              "        vertical-align: middle;\n",
              "    }\n",
              "\n",
              "    .dataframe tbody tr th {\n",
              "        vertical-align: top;\n",
              "    }\n",
              "\n",
              "    .dataframe thead th {\n",
              "        text-align: right;\n",
              "    }\n",
              "</style>\n",
              "<table border=\"1\" class=\"dataframe\">\n",
              "  <thead>\n",
              "    <tr style=\"text-align: right;\">\n",
              "      <th></th>\n",
              "      <th>행정구역별(읍면동)(1)</th>\n",
              "      <th>행정구역별(읍면동)(2)</th>\n",
              "      <th>행정구역별(읍면동)(3)</th>\n",
              "      <th>연령별(1)</th>\n",
              "      <th>2024</th>\n",
              "      <th>2024.1</th>\n",
              "    </tr>\n",
              "  </thead>\n",
              "  <tbody>\n",
              "    <tr>\n",
              "      <th>0</th>\n",
              "      <td>행정구역별(읍면동)(1)</td>\n",
              "      <td>행정구역별(읍면동)(2)</td>\n",
              "      <td>행정구역별(읍면동)(3)</td>\n",
              "      <td>연령별(1)</td>\n",
              "      <td>총인구(명)</td>\n",
              "      <td>내국인(명)</td>\n",
              "    </tr>\n",
              "    <tr>\n",
              "      <th>1</th>\n",
              "      <td>서울특별시</td>\n",
              "      <td>소계</td>\n",
              "      <td>소계</td>\n",
              "      <td>합계</td>\n",
              "      <td>9335444</td>\n",
              "      <td>8968153</td>\n",
              "    </tr>\n",
              "    <tr>\n",
              "      <th>2</th>\n",
              "      <td>NaN</td>\n",
              "      <td>종로구</td>\n",
              "      <td>소계</td>\n",
              "      <td>합계</td>\n",
              "      <td>144486</td>\n",
              "      <td>132177</td>\n",
              "    </tr>\n",
              "    <tr>\n",
              "      <th>3</th>\n",
              "      <td>NaN</td>\n",
              "      <td>NaN</td>\n",
              "      <td>사직동</td>\n",
              "      <td>합계</td>\n",
              "      <td>8411</td>\n",
              "      <td>8138</td>\n",
              "    </tr>\n",
              "    <tr>\n",
              "      <th>4</th>\n",
              "      <td>NaN</td>\n",
              "      <td>NaN</td>\n",
              "      <td>삼청동</td>\n",
              "      <td>합계</td>\n",
              "      <td>2060</td>\n",
              "      <td>1994</td>\n",
              "    </tr>\n",
              "  </tbody>\n",
              "</table>\n",
              "</div>"
            ],
            "text/plain": [
              "   행정구역별(읍면동)(1)  행정구역별(읍면동)(2)  행정구역별(읍면동)(3)  연령별(1)     2024   2024.1\n",
              "0  행정구역별(읍면동)(1)  행정구역별(읍면동)(2)  행정구역별(읍면동)(3)  연령별(1)   총인구(명)   내국인(명)\n",
              "1          서울특별시             소계             소계      합계  9335444  8968153\n",
              "2            NaN            종로구             소계      합계   144486   132177\n",
              "3            NaN            NaN            사직동      합계     8411     8138\n",
              "4            NaN            NaN            삼청동      합계     2060     1994"
            ]
          },
          "execution_count": 39,
          "metadata": {},
          "output_type": "execute_result"
        }
      ],
      "source": [
        "popFo = pd.read_excel(r'../data/raw/읍면동_총인구수.xlsx')\n",
        "popFo.head()"
      ]
    },
    {
      "cell_type": "code",
      "execution_count": 40,
      "metadata": {
        "id": "EbISDc6HU0gU"
      },
      "outputs": [],
      "source": [
        "# 첫 번째 행을 컬럼 헤더로 설정\n",
        "popFo.columns = popFo.iloc[0]\n",
        "\n",
        "# 첫 번째 행 삭제\n",
        "popFo = popFo[1:].reset_index(drop=True)\n",
        "\n",
        "# '행정구역별(읍면동)(1)', '행정구역별(읍면동)(2)', '행정구역별(읍면동)(3)' 컬럼의 NaN 값을 앞의 값으로 채우기\n",
        "popFo['행정구역별(읍면동)(1)'] = popFo['행정구역별(읍면동)(1)'].ffill()\n",
        "popFo['행정구역별(읍면동)(2)'] = popFo['행정구역별(읍면동)(2)'].ffill()\n",
        "popFo['행정구역별(읍면동)(3)'] = popFo['행정구역별(읍면동)(3)'].ffill()"
      ]
    },
    {
      "cell_type": "code",
      "execution_count": 41,
      "metadata": {
        "colab": {
          "base_uri": "https://localhost:8080/",
          "height": 206
        },
        "id": "b3YuHBDhVBTc",
        "outputId": "57213643-a06f-459b-f524-8abb1b50e01f"
      },
      "outputs": [
        {
          "data": {
            "text/html": [
              "<div>\n",
              "<style scoped>\n",
              "    .dataframe tbody tr th:only-of-type {\n",
              "        vertical-align: middle;\n",
              "    }\n",
              "\n",
              "    .dataframe tbody tr th {\n",
              "        vertical-align: top;\n",
              "    }\n",
              "\n",
              "    .dataframe thead th {\n",
              "        text-align: right;\n",
              "    }\n",
              "</style>\n",
              "<table border=\"1\" class=\"dataframe\">\n",
              "  <thead>\n",
              "    <tr style=\"text-align: right;\">\n",
              "      <th></th>\n",
              "      <th>시도명</th>\n",
              "      <th>시군구명</th>\n",
              "      <th>읍면동명</th>\n",
              "      <th>총인구</th>\n",
              "      <th>내국인</th>\n",
              "    </tr>\n",
              "  </thead>\n",
              "  <tbody>\n",
              "    <tr>\n",
              "      <th>0</th>\n",
              "      <td>서울특별시</td>\n",
              "      <td>종로구</td>\n",
              "      <td>사직동</td>\n",
              "      <td>8411</td>\n",
              "      <td>8138</td>\n",
              "    </tr>\n",
              "    <tr>\n",
              "      <th>1</th>\n",
              "      <td>서울특별시</td>\n",
              "      <td>종로구</td>\n",
              "      <td>삼청동</td>\n",
              "      <td>2060</td>\n",
              "      <td>1994</td>\n",
              "    </tr>\n",
              "    <tr>\n",
              "      <th>2</th>\n",
              "      <td>서울특별시</td>\n",
              "      <td>종로구</td>\n",
              "      <td>부암동</td>\n",
              "      <td>9057</td>\n",
              "      <td>8712</td>\n",
              "    </tr>\n",
              "    <tr>\n",
              "      <th>3</th>\n",
              "      <td>서울특별시</td>\n",
              "      <td>종로구</td>\n",
              "      <td>평창동</td>\n",
              "      <td>16392</td>\n",
              "      <td>16098</td>\n",
              "    </tr>\n",
              "    <tr>\n",
              "      <th>4</th>\n",
              "      <td>서울특별시</td>\n",
              "      <td>종로구</td>\n",
              "      <td>무악동</td>\n",
              "      <td>7446</td>\n",
              "      <td>7398</td>\n",
              "    </tr>\n",
              "  </tbody>\n",
              "</table>\n",
              "</div>"
            ],
            "text/plain": [
              "0    시도명 시군구명 읍면동명    총인구    내국인\n",
              "0  서울특별시  종로구  사직동   8411   8138\n",
              "1  서울특별시  종로구  삼청동   2060   1994\n",
              "2  서울특별시  종로구  부암동   9057   8712\n",
              "3  서울특별시  종로구  평창동  16392  16098\n",
              "4  서울특별시  종로구  무악동   7446   7398"
            ]
          },
          "metadata": {},
          "output_type": "display_data"
        }
      ],
      "source": [
        "# '행정구역별(읍면동)(3)' 컬럼의 값이 '소계'인 행들 삭제\n",
        "popFo = popFo[popFo['행정구역별(읍면동)(3)'] != '소계'].reset_index(drop=True)\n",
        "\n",
        "# 컬럼 이름 변경\n",
        "popFo = popFo.rename(columns={'행정구역별(읍면동)(1)': '시도명', '행정구역별(읍면동)(2)': '시군구명', '행정구역별(읍면동)(3)': '읍면동명'})\n",
        "\n",
        "# '연령별(1)' 컬럼 삭제\n",
        "popFo = popFo.drop(columns=['연령별(1)'])\n",
        "\n",
        "# '총인구(명)' 컬럼 이름을 '고령자인구수'로 변경\n",
        "popFo = popFo.rename(columns={'총인구(명)': '총인구', '내국인(명)' : '내국인'})\n",
        "\n",
        "display(popFo.head())"
      ]
    },
    {
      "cell_type": "code",
      "execution_count": 42,
      "metadata": {
        "colab": {
          "base_uri": "https://localhost:8080/",
          "height": 206
        },
        "id": "ePS81Z3OVZun",
        "outputId": "b93ea3e9-5c4c-48d5-939a-bebd8192e5c1"
      },
      "outputs": [
        {
          "data": {
            "text/html": [
              "<div>\n",
              "<style scoped>\n",
              "    .dataframe tbody tr th:only-of-type {\n",
              "        vertical-align: middle;\n",
              "    }\n",
              "\n",
              "    .dataframe tbody tr th {\n",
              "        vertical-align: top;\n",
              "    }\n",
              "\n",
              "    .dataframe thead th {\n",
              "        text-align: right;\n",
              "    }\n",
              "</style>\n",
              "<table border=\"1\" class=\"dataframe\">\n",
              "  <thead>\n",
              "    <tr style=\"text-align: right;\">\n",
              "      <th></th>\n",
              "      <th>시도명</th>\n",
              "      <th>시군구명</th>\n",
              "      <th>읍면동명</th>\n",
              "      <th>총인구</th>\n",
              "      <th>외국인</th>\n",
              "    </tr>\n",
              "  </thead>\n",
              "  <tbody>\n",
              "    <tr>\n",
              "      <th>0</th>\n",
              "      <td>서울특별시</td>\n",
              "      <td>종로구</td>\n",
              "      <td>사직동</td>\n",
              "      <td>8411</td>\n",
              "      <td>273</td>\n",
              "    </tr>\n",
              "    <tr>\n",
              "      <th>1</th>\n",
              "      <td>서울특별시</td>\n",
              "      <td>종로구</td>\n",
              "      <td>삼청동</td>\n",
              "      <td>2060</td>\n",
              "      <td>66</td>\n",
              "    </tr>\n",
              "    <tr>\n",
              "      <th>2</th>\n",
              "      <td>서울특별시</td>\n",
              "      <td>종로구</td>\n",
              "      <td>부암동</td>\n",
              "      <td>9057</td>\n",
              "      <td>345</td>\n",
              "    </tr>\n",
              "    <tr>\n",
              "      <th>3</th>\n",
              "      <td>서울특별시</td>\n",
              "      <td>종로구</td>\n",
              "      <td>평창동</td>\n",
              "      <td>16392</td>\n",
              "      <td>294</td>\n",
              "    </tr>\n",
              "    <tr>\n",
              "      <th>4</th>\n",
              "      <td>서울특별시</td>\n",
              "      <td>종로구</td>\n",
              "      <td>무악동</td>\n",
              "      <td>7446</td>\n",
              "      <td>48</td>\n",
              "    </tr>\n",
              "  </tbody>\n",
              "</table>\n",
              "</div>"
            ],
            "text/plain": [
              "0    시도명 시군구명 읍면동명    총인구  외국인\n",
              "0  서울특별시  종로구  사직동   8411  273\n",
              "1  서울특별시  종로구  삼청동   2060   66\n",
              "2  서울특별시  종로구  부암동   9057  345\n",
              "3  서울특별시  종로구  평창동  16392  294\n",
              "4  서울특별시  종로구  무악동   7446   48"
            ]
          },
          "metadata": {},
          "output_type": "display_data"
        }
      ],
      "source": [
        "# '총인구'와 '내국인' 컬럼을 숫자로 변환 (errors='coerce'를 사용하여 변환 불가능한 값은 NaN으로 처리)\n",
        "# '내국인' 컬럼이 존재하는 경우에만 변환\n",
        "if '내국인' in popFo.columns:\n",
        "    popFo['내국인'] = pd.to_numeric(popFo['내국인'], errors='coerce')\n",
        "popFo['총인구'] = pd.to_numeric(popFo['총인구'], errors='coerce')\n",
        "\n",
        "\n",
        "# '총인구' - '내국인'으로 '외국인' 컬럼 생성\n",
        "# '내국인' 컬럼이 존재하는 경우에만 뺄셈 수행, 아니면 NaN으로 초기화\n",
        "if '내국인' in popFo.columns:\n",
        "    popFo['외국인'] = popFo['총인구'] - popFo['내국인']\n",
        "else:\n",
        "    popFo['외국인'] = pd.NA # Or 0, depending on desired behavior when '내국인' is missing\n",
        "\n",
        "\n",
        "# '총인구'와 '외국인' 컬럼의 NaN 값을 0으로 채우고 정수형으로 변환\n",
        "popFo['총인구'] = popFo['총인구'].fillna(0).astype(int)\n",
        "popFo['외국인'] = popFo['외국인'].fillna(0).astype(int)\n",
        "\n",
        "\n",
        "# '내국인' 컬럼 삭제\n",
        "if '내국인' in popFo.columns:\n",
        "    popFo = popFo.drop(columns=['내국인'])\n",
        "\n",
        "display(popFo.head())"
      ]
    },
    {
      "cell_type": "markdown",
      "metadata": {
        "id": "px46DTkbtOaO"
      },
      "source": [
        "### 4. 행정구역별 장애인 인구수"
      ]
    },
    {
      "cell_type": "code",
      "execution_count": 43,
      "metadata": {
        "id": "fOMEcKnNtQfV"
      },
      "outputs": [],
      "source": [
        "#"
      ]
    },
    {
      "cell_type": "code",
      "execution_count": null,
      "metadata": {
        "id": "xL5epOm4tR8X"
      },
      "outputs": [],
      "source": []
    },
    {
      "cell_type": "markdown",
      "metadata": {
        "id": "nh8P3gaSWlx5"
      },
      "source": [
        "### 5. 전체 데이터들 merge"
      ]
    },
    {
      "cell_type": "code",
      "execution_count": 44,
      "metadata": {
        "colab": {
          "base_uri": "https://localhost:8080/",
          "height": 206
        },
        "id": "NKTSP28QWo5-",
        "outputId": "0325e83b-8696-4ef2-cf54-6c9bad8e71f7"
      },
      "outputs": [
        {
          "data": {
            "text/html": [
              "<div>\n",
              "<style scoped>\n",
              "    .dataframe tbody tr th:only-of-type {\n",
              "        vertical-align: middle;\n",
              "    }\n",
              "\n",
              "    .dataframe tbody tr th {\n",
              "        vertical-align: top;\n",
              "    }\n",
              "\n",
              "    .dataframe thead th {\n",
              "        text-align: right;\n",
              "    }\n",
              "</style>\n",
              "<table border=\"1\" class=\"dataframe\">\n",
              "  <thead>\n",
              "    <tr style=\"text-align: right;\">\n",
              "      <th></th>\n",
              "      <th>시도명</th>\n",
              "      <th>시군구명</th>\n",
              "      <th>읍면동명</th>\n",
              "      <th>아동인구수</th>\n",
              "      <th>고령자인구수</th>\n",
              "      <th>총인구</th>\n",
              "      <th>외국인</th>\n",
              "    </tr>\n",
              "  </thead>\n",
              "  <tbody>\n",
              "    <tr>\n",
              "      <th>0</th>\n",
              "      <td>서울특별시</td>\n",
              "      <td>종로구</td>\n",
              "      <td>사직동</td>\n",
              "      <td>619</td>\n",
              "      <td>1826</td>\n",
              "      <td>8411</td>\n",
              "      <td>273</td>\n",
              "    </tr>\n",
              "    <tr>\n",
              "      <th>1</th>\n",
              "      <td>서울특별시</td>\n",
              "      <td>종로구</td>\n",
              "      <td>삼청동</td>\n",
              "      <td>130</td>\n",
              "      <td>577</td>\n",
              "      <td>2060</td>\n",
              "      <td>66</td>\n",
              "    </tr>\n",
              "    <tr>\n",
              "      <th>2</th>\n",
              "      <td>서울특별시</td>\n",
              "      <td>종로구</td>\n",
              "      <td>부암동</td>\n",
              "      <td>683</td>\n",
              "      <td>1953</td>\n",
              "      <td>9057</td>\n",
              "      <td>345</td>\n",
              "    </tr>\n",
              "    <tr>\n",
              "      <th>3</th>\n",
              "      <td>서울특별시</td>\n",
              "      <td>종로구</td>\n",
              "      <td>평창동</td>\n",
              "      <td>1484</td>\n",
              "      <td>3854</td>\n",
              "      <td>16392</td>\n",
              "      <td>294</td>\n",
              "    </tr>\n",
              "    <tr>\n",
              "      <th>4</th>\n",
              "      <td>서울특별시</td>\n",
              "      <td>종로구</td>\n",
              "      <td>무악동</td>\n",
              "      <td>903</td>\n",
              "      <td>1492</td>\n",
              "      <td>7446</td>\n",
              "      <td>48</td>\n",
              "    </tr>\n",
              "  </tbody>\n",
              "</table>\n",
              "</div>"
            ],
            "text/plain": [
              "0    시도명 시군구명 읍면동명  아동인구수  고령자인구수    총인구  외국인\n",
              "0  서울특별시  종로구  사직동    619    1826   8411  273\n",
              "1  서울특별시  종로구  삼청동    130     577   2060   66\n",
              "2  서울특별시  종로구  부암동    683    1953   9057  345\n",
              "3  서울특별시  종로구  평창동   1484    3854  16392  294\n",
              "4  서울특별시  종로구  무악동    903    1492   7446   48"
            ]
          },
          "metadata": {},
          "output_type": "display_data"
        }
      ],
      "source": [
        "total = pd.merge(pop15, pop65, on=['시도명', '시군구명', '읍면동명'], how='inner')\n",
        "total = pd.merge(total, popFo, on=['시도명', '시군구명', '읍면동명'], how='inner')\n",
        "\n",
        "display(total.head())"
      ]
    },
    {
      "cell_type": "markdown",
      "metadata": {
        "id": "s0TaWUO6J5Uq"
      },
      "source": [
        "### 6. 법정동 코드 merge"
      ]
    },
    {
      "cell_type": "code",
      "execution_count": 45,
      "metadata": {
        "colab": {
          "base_uri": "https://localhost:8080/",
          "height": 206
        },
        "id": "-KT8C6sJJ8Cq",
        "outputId": "a99eb181-e012-4070-d14f-a86593c3044f"
      },
      "outputs": [
        {
          "data": {
            "text/html": [
              "<div>\n",
              "<style scoped>\n",
              "    .dataframe tbody tr th:only-of-type {\n",
              "        vertical-align: middle;\n",
              "    }\n",
              "\n",
              "    .dataframe tbody tr th {\n",
              "        vertical-align: top;\n",
              "    }\n",
              "\n",
              "    .dataframe thead th {\n",
              "        text-align: right;\n",
              "    }\n",
              "</style>\n",
              "<table border=\"1\" class=\"dataframe\">\n",
              "  <thead>\n",
              "    <tr style=\"text-align: right;\">\n",
              "      <th></th>\n",
              "      <th>시도명</th>\n",
              "      <th>시군구명</th>\n",
              "      <th>읍면동명</th>\n",
              "      <th>행정동코드</th>\n",
              "      <th>아동인구수</th>\n",
              "      <th>고령자인구수</th>\n",
              "      <th>총인구</th>\n",
              "      <th>외국인</th>\n",
              "    </tr>\n",
              "  </thead>\n",
              "  <tbody>\n",
              "    <tr>\n",
              "      <th>0</th>\n",
              "      <td>서울특별시</td>\n",
              "      <td>종로구</td>\n",
              "      <td>사직동</td>\n",
              "      <td>1.111012e+09</td>\n",
              "      <td>619</td>\n",
              "      <td>1826</td>\n",
              "      <td>8411</td>\n",
              "      <td>273</td>\n",
              "    </tr>\n",
              "    <tr>\n",
              "      <th>1</th>\n",
              "      <td>서울특별시</td>\n",
              "      <td>종로구</td>\n",
              "      <td>삼청동</td>\n",
              "      <td>1.111014e+09</td>\n",
              "      <td>130</td>\n",
              "      <td>577</td>\n",
              "      <td>2060</td>\n",
              "      <td>66</td>\n",
              "    </tr>\n",
              "    <tr>\n",
              "      <th>2</th>\n",
              "      <td>서울특별시</td>\n",
              "      <td>종로구</td>\n",
              "      <td>부암동</td>\n",
              "      <td>1.111018e+09</td>\n",
              "      <td>683</td>\n",
              "      <td>1953</td>\n",
              "      <td>9057</td>\n",
              "      <td>345</td>\n",
              "    </tr>\n",
              "    <tr>\n",
              "      <th>3</th>\n",
              "      <td>서울특별시</td>\n",
              "      <td>종로구</td>\n",
              "      <td>평창동</td>\n",
              "      <td>1.111018e+09</td>\n",
              "      <td>1484</td>\n",
              "      <td>3854</td>\n",
              "      <td>16392</td>\n",
              "      <td>294</td>\n",
              "    </tr>\n",
              "    <tr>\n",
              "      <th>4</th>\n",
              "      <td>서울특별시</td>\n",
              "      <td>종로구</td>\n",
              "      <td>무악동</td>\n",
              "      <td>1.111019e+09</td>\n",
              "      <td>903</td>\n",
              "      <td>1492</td>\n",
              "      <td>7446</td>\n",
              "      <td>48</td>\n",
              "    </tr>\n",
              "  </tbody>\n",
              "</table>\n",
              "</div>"
            ],
            "text/plain": [
              "     시도명 시군구명 읍면동명         행정동코드  아동인구수  고령자인구수    총인구  외국인\n",
              "0  서울특별시  종로구  사직동  1.111012e+09    619    1826   8411  273\n",
              "1  서울특별시  종로구  삼청동  1.111014e+09    130     577   2060   66\n",
              "2  서울특별시  종로구  부암동  1.111018e+09    683    1953   9057  345\n",
              "3  서울특별시  종로구  평창동  1.111018e+09   1484    3854  16392  294\n",
              "4  서울특별시  종로구  무악동  1.111019e+09    903    1492   7446   48"
            ]
          },
          "metadata": {},
          "output_type": "display_data"
        }
      ],
      "source": [
        "# cd 데이터프레임에서 필요한 컬럼만 선택하고 컬럼명 변경\n",
        "cd_subset = cd[['시도명', '시군구명', '읍면동명', '법정동코드']].copy()\n",
        "cd_subset = cd_subset.rename(columns={'법정동코드': '행정동코드'})\n",
        "\n",
        "# total 데이터프레임과 cd_subset 데이터프레임을 병합\n",
        "# inner merge를 사용하여 total과 cd_subset 모두에 존재하는 키만 남깁니다.\n",
        "total = pd.merge(total, cd_subset, on=['시도명', '시군구명', '읍면동명'], how='left')\n",
        "\n",
        "# '행정동코드' 컬럼의 위치를 조정\n",
        "cols = total.columns.tolist()\n",
        "# '읍면동명' 컬럼의 인덱스를 찾습니다.\n",
        "읍면동명_idx = cols.index('읍면동명')\n",
        "# '행정동코드' 컬럼을 '읍면동명' 컬럼 바로 다음으로 이동시킵니다.\n",
        "# '행정동코드'가 cols 리스트에 있는지 확인합니다.\n",
        "if '행정동코드' in cols:\n",
        "    cols.insert(읍면동명_idx + 1, cols.pop(cols.index('행정동코드')))\n",
        "    total = total[cols]\n",
        "\n",
        "display(total.head())"
      ]
    },
    {
      "cell_type": "code",
      "execution_count": 46,
      "metadata": {
        "colab": {
          "base_uri": "https://localhost:8080/"
        },
        "id": "0bRVfeTAKdna",
        "outputId": "dd147936-95bb-494b-efdb-f750322985b8"
      },
      "outputs": [
        {
          "data": {
            "text/plain": [
              "(3554, 8)"
            ]
          },
          "execution_count": 46,
          "metadata": {},
          "output_type": "execute_result"
        }
      ],
      "source": [
        "total.shape"
      ]
    },
    {
      "cell_type": "markdown",
      "metadata": {
        "id": "G3SUW9mDtSc3"
      },
      "source": [
        "## 사회취약계층 계산"
      ]
    },
    {
      "cell_type": "code",
      "execution_count": null,
      "metadata": {
        "id": "7BWikdtmtVQ1"
      },
      "outputs": [],
      "source": []
    },
    {
      "cell_type": "markdown",
      "metadata": {},
      "source": [
        "## 전처리된 데이터 export"
      ]
    },
    {
      "cell_type": "code",
      "execution_count": 49,
      "metadata": {},
      "outputs": [],
      "source": [
        "from pathlib import Path\n",
        "\n",
        "out_dir = Path.cwd().parent / 'data' / 'processed'   # notebooks → .. → data/processed\n",
        "out_dir.mkdir(parents=True, exist_ok=True)           # 폴더 없으면 생성\n",
        "total.to_excel(out_dir / '202506_읍면동_사회취약계층표.xlsx', index=False)"
      ]
    },
    {
      "cell_type": "code",
      "execution_count": 50,
      "metadata": {},
      "outputs": [
        {
          "data": {
            "text/plain": [
              "시도명          0\n",
              "시군구명         0\n",
              "읍면동명         0\n",
              "행정동코드     1419\n",
              "아동인구수        3\n",
              "고령자인구수       1\n",
              "총인구          0\n",
              "외국인          0\n",
              "dtype: int64"
            ]
          },
          "execution_count": 50,
          "metadata": {},
          "output_type": "execute_result"
        }
      ],
      "source": [
        "total.isnull().sum()"
      ]
    },
    {
      "cell_type": "code",
      "execution_count": null,
      "metadata": {},
      "outputs": [],
      "source": []
    }
  ],
  "metadata": {
    "colab": {
      "provenance": []
    },
    "kernelspec": {
      "display_name": "Python 3",
      "name": "python3"
    },
    "language_info": {
      "name": "python"
    }
  },
  "nbformat": 4,
  "nbformat_minor": 0
}
