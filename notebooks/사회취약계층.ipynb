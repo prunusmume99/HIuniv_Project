{
 "cells": [
  {
   "cell_type": "markdown",
   "metadata": {
    "id": "nFW5Og8yqwHA"
   },
   "source": [
    "### 1. 행정구역별 15세 미만 인구수\n",
    "### 2. 행정구역별 65세 이상 인구수"
   ]
  },
  {
   "cell_type": "code",
   "execution_count": 17,
   "metadata": {
    "executionInfo": {
     "elapsed": 355,
     "status": "ok",
     "timestamp": 1753784770581,
     "user": {
      "displayName": "강현서",
      "userId": "18385582855243059976"
     },
     "user_tz": -540
    },
    "id": "oMdqOTMF5dYA"
   },
   "outputs": [],
   "source": [
    "# 읍면동 별 인구수 데이터를 불러온다.\n",
    "import pandas as pd\n",
    "df = pd.read_excel('../data/raw/202506_읍면동_연령별인구수.xlsx')"
   ]
  },
  {
   "cell_type": "code",
   "execution_count": 18,
   "metadata": {
    "colab": {
     "base_uri": "https://localhost:8080/",
     "height": 262
    },
    "executionInfo": {
     "elapsed": 33,
     "status": "ok",
     "timestamp": 1753784771278,
     "user": {
      "displayName": "강현서",
      "userId": "18385582855243059976"
     },
     "user_tz": -540
    },
    "id": "TDv1aoyv50uG",
    "outputId": "b4f59855-bf9c-446f-a91a-f25233e3f9e5"
   },
   "outputs": [
    {
     "name": "stderr",
     "output_type": "stream",
     "text": [
      "C:\\Users\\Public\\Documents\\ESTsoft\\CreatorTemp\\ipykernel_1644\\1054061980.py:5: FutureWarning: Series.fillna with 'method' is deprecated and will raise in a future version. Use obj.ffill() or obj.bfill() instead.\n",
      "  df['행정구역별(읍면동)'] = df['행정구역별(읍면동)'].fillna(method='ffill')\n"
     ]
    },
    {
     "data": {
      "text/html": [
       "<div>\n",
       "<style scoped>\n",
       "    .dataframe tbody tr th:only-of-type {\n",
       "        vertical-align: middle;\n",
       "    }\n",
       "\n",
       "    .dataframe tbody tr th {\n",
       "        vertical-align: top;\n",
       "    }\n",
       "\n",
       "    .dataframe thead th {\n",
       "        text-align: right;\n",
       "    }\n",
       "</style>\n",
       "<table border=\"1\" class=\"dataframe\">\n",
       "  <thead>\n",
       "    <tr style=\"text-align: right;\">\n",
       "      <th></th>\n",
       "      <th>행정구역별(읍면동)</th>\n",
       "      <th>연령별</th>\n",
       "      <th>총인구(명)</th>\n",
       "      <th>내국인(명)</th>\n",
       "    </tr>\n",
       "  </thead>\n",
       "  <tbody>\n",
       "    <tr>\n",
       "      <th>0</th>\n",
       "      <td>사직동</td>\n",
       "      <td>15세미만</td>\n",
       "      <td>619</td>\n",
       "      <td>611</td>\n",
       "    </tr>\n",
       "    <tr>\n",
       "      <th>1</th>\n",
       "      <td>사직동</td>\n",
       "      <td>65세이상</td>\n",
       "      <td>1826</td>\n",
       "      <td>1796</td>\n",
       "    </tr>\n",
       "    <tr>\n",
       "      <th>2</th>\n",
       "      <td>삼청동</td>\n",
       "      <td>15세미만</td>\n",
       "      <td>130</td>\n",
       "      <td>123</td>\n",
       "    </tr>\n",
       "    <tr>\n",
       "      <th>3</th>\n",
       "      <td>삼청동</td>\n",
       "      <td>65세이상</td>\n",
       "      <td>577</td>\n",
       "      <td>571</td>\n",
       "    </tr>\n",
       "    <tr>\n",
       "      <th>4</th>\n",
       "      <td>부암동</td>\n",
       "      <td>15세미만</td>\n",
       "      <td>683</td>\n",
       "      <td>681</td>\n",
       "    </tr>\n",
       "  </tbody>\n",
       "</table>\n",
       "</div>"
      ],
      "text/plain": [
       "  행정구역별(읍면동)    연령별 총인구(명) 내국인(명)\n",
       "0  　　　　　　사직동  15세미만    619    611\n",
       "1  　　　　　　사직동  65세이상   1826   1796\n",
       "2  　　　　　　삼청동  15세미만    130    123\n",
       "3  　　　　　　삼청동  65세이상    577    571\n",
       "4  　　　　　　부암동  15세미만    683    681"
      ]
     },
     "metadata": {},
     "output_type": "display_data"
    }
   ],
   "source": [
    "# 행정구역에 NaN값 처리\n",
    "# 본래 엑셀에서는 15세 미만과 65세 이상에 대해, 하나의 행에만 행정구역 이름이 들어가 있어, 정확히 절반은 NaN으로 떠버림\n",
    "# 따라서, NaN 바로 앞에 있는 행정구역 데이터로 fillna를 수행\n",
    "\n",
    "df['행정구역별(읍면동)'] = df['행정구역별(읍면동)'].fillna(method='ffill')\n",
    "display(df.head())"
   ]
  },
  {
   "cell_type": "code",
   "execution_count": 19,
   "metadata": {
    "colab": {
     "base_uri": "https://localhost:8080/",
     "height": 206
    },
    "executionInfo": {
     "elapsed": 54,
     "status": "ok",
     "timestamp": 1753784772179,
     "user": {
      "displayName": "강현서",
      "userId": "18385582855243059976"
     },
     "user_tz": -540
    },
    "id": "q4muRRpf6ENs",
    "outputId": "4f747c6f-7ed0-4591-805f-1fb828af3e46"
   },
   "outputs": [
    {
     "data": {
      "text/html": [
       "<div>\n",
       "<style scoped>\n",
       "    .dataframe tbody tr th:only-of-type {\n",
       "        vertical-align: middle;\n",
       "    }\n",
       "\n",
       "    .dataframe tbody tr th {\n",
       "        vertical-align: top;\n",
       "    }\n",
       "\n",
       "    .dataframe thead th {\n",
       "        text-align: right;\n",
       "    }\n",
       "</style>\n",
       "<table border=\"1\" class=\"dataframe\">\n",
       "  <thead>\n",
       "    <tr style=\"text-align: right;\">\n",
       "      <th></th>\n",
       "      <th>행정구역</th>\n",
       "      <th>연령대</th>\n",
       "      <th>총인구(명)</th>\n",
       "      <th>내국인(명)</th>\n",
       "    </tr>\n",
       "  </thead>\n",
       "  <tbody>\n",
       "    <tr>\n",
       "      <th>0</th>\n",
       "      <td>사직동</td>\n",
       "      <td>15세미만</td>\n",
       "      <td>619</td>\n",
       "      <td>611</td>\n",
       "    </tr>\n",
       "    <tr>\n",
       "      <th>1</th>\n",
       "      <td>사직동</td>\n",
       "      <td>65세이상</td>\n",
       "      <td>1826</td>\n",
       "      <td>1796</td>\n",
       "    </tr>\n",
       "    <tr>\n",
       "      <th>2</th>\n",
       "      <td>삼청동</td>\n",
       "      <td>15세미만</td>\n",
       "      <td>130</td>\n",
       "      <td>123</td>\n",
       "    </tr>\n",
       "    <tr>\n",
       "      <th>3</th>\n",
       "      <td>삼청동</td>\n",
       "      <td>65세이상</td>\n",
       "      <td>577</td>\n",
       "      <td>571</td>\n",
       "    </tr>\n",
       "    <tr>\n",
       "      <th>4</th>\n",
       "      <td>부암동</td>\n",
       "      <td>15세미만</td>\n",
       "      <td>683</td>\n",
       "      <td>681</td>\n",
       "    </tr>\n",
       "  </tbody>\n",
       "</table>\n",
       "</div>"
      ],
      "text/plain": [
       "        행정구역    연령대 총인구(명) 내국인(명)\n",
       "0  　　　　　　사직동  15세미만    619    611\n",
       "1  　　　　　　사직동  65세이상   1826   1796\n",
       "2  　　　　　　삼청동  15세미만    130    123\n",
       "3  　　　　　　삼청동  65세이상    577    571\n",
       "4  　　　　　　부암동  15세미만    683    681"
      ]
     },
     "execution_count": 19,
     "metadata": {},
     "output_type": "execute_result"
    }
   ],
   "source": [
    "# 컬럼 이름 수정\n",
    "df.rename(columns={'행정구역별(읍면동)':'행정구역', '연령별': '연령대'}, inplace=True)\n",
    "df.head()"
   ]
  },
  {
   "cell_type": "code",
   "execution_count": 20,
   "metadata": {
    "colab": {
     "base_uri": "https://localhost:8080/",
     "height": 527
    },
    "executionInfo": {
     "elapsed": 35,
     "status": "ok",
     "timestamp": 1753784772978,
     "user": {
      "displayName": "강현서",
      "userId": "18385582855243059976"
     },
     "user_tz": -540
    },
    "id": "cIkSWjWJ6Ryq",
    "outputId": "049ddefc-c42d-4b58-af4d-9e32f0ed37b0"
   },
   "outputs": [
    {
     "data": {
      "text/plain": [
       "행정구역\n",
       "　　　　　　가경동    7305.0\n",
       "　　　　　　가곡동    2364.0\n",
       "　　　　　　가곡면    1184.0\n",
       "　　　　　　가남읍    3943.0\n",
       "　　　　　　가능동    5152.0\n",
       "Name: 총인구(명), dtype: float64"
      ]
     },
     "metadata": {},
     "output_type": "display_data"
    },
    {
     "data": {
      "text/plain": [
       "행정구역\n",
       "　　　　　　가경동    7100.0\n",
       "　　　　　　가곡동     475.0\n",
       "　　　　　　가곡면     113.0\n",
       "　　　　　　가남읍    1099.0\n",
       "　　　　　　가능동    1867.0\n",
       "Name: 총인구(명), dtype: float64"
      ]
     },
     "metadata": {},
     "output_type": "display_data"
    }
   ],
   "source": [
    "# 총인구과 내국인 열을 String값에서 int값으로 수정한다. 만약 NaN값이 있다면 0으로 채운다.\n",
    "df['총인구(명)'] = pd.to_numeric(df['총인구(명)'], errors='coerce').fillna(0)\n",
    "df['내국인(명)'] = pd.to_numeric(df['내국인(명)'], errors='coerce').fillna(0)\n",
    "\n",
    "# 1. 행정구역별 65세 이상 인구수\n",
    "pop_65_plus = df[df['연령대'] == '65세이상'].groupby('행정구역')['총인구(명)'].sum()\n",
    "display(pop_65_plus.head())\n",
    "\n",
    "# 2. 행정구역별 15세 미만 인구수\n",
    "pop_under_15 = df[df['연령대'] == '15세미만'].groupby('행정구역')['총인구(명)'].sum()\n",
    "display(pop_under_15.head())"
   ]
  },
  {
   "cell_type": "markdown",
   "metadata": {
    "id": "rJGddeLarvIz"
   },
   "source": [
    "### 3. 행정구역별 외국인 인구수 (미숙한 한국어는 재난 발생시에 위험을 높힐 수 있기에 점수 계산에 포함)"
   ]
  },
  {
   "cell_type": "code",
   "execution_count": 21,
   "metadata": {
    "colab": {
     "base_uri": "https://localhost:8080/",
     "height": 206
    },
    "executionInfo": {
     "elapsed": 641,
     "status": "ok",
     "timestamp": 1753784775244,
     "user": {
      "displayName": "강현서",
      "userId": "18385582855243059976"
     },
     "user_tz": -540
    },
    "id": "lVK-1xx266b6",
    "outputId": "1ad4f2d3-c412-4083-fb78-b37db424af14"
   },
   "outputs": [
    {
     "data": {
      "text/html": [
       "<div>\n",
       "<style scoped>\n",
       "    .dataframe tbody tr th:only-of-type {\n",
       "        vertical-align: middle;\n",
       "    }\n",
       "\n",
       "    .dataframe tbody tr th {\n",
       "        vertical-align: top;\n",
       "    }\n",
       "\n",
       "    .dataframe thead th {\n",
       "        text-align: right;\n",
       "    }\n",
       "</style>\n",
       "<table border=\"1\" class=\"dataframe\">\n",
       "  <thead>\n",
       "    <tr style=\"text-align: right;\">\n",
       "      <th></th>\n",
       "      <th>행정구역별(읍면동)</th>\n",
       "      <th>연령별</th>\n",
       "      <th>총인구(명)</th>\n",
       "      <th>내국인(명)</th>\n",
       "    </tr>\n",
       "  </thead>\n",
       "  <tbody>\n",
       "    <tr>\n",
       "      <th>0</th>\n",
       "      <td>사직동</td>\n",
       "      <td>합계</td>\n",
       "      <td>8411</td>\n",
       "      <td>8138</td>\n",
       "    </tr>\n",
       "    <tr>\n",
       "      <th>1</th>\n",
       "      <td>삼청동</td>\n",
       "      <td>합계</td>\n",
       "      <td>2060</td>\n",
       "      <td>1994</td>\n",
       "    </tr>\n",
       "    <tr>\n",
       "      <th>2</th>\n",
       "      <td>부암동</td>\n",
       "      <td>합계</td>\n",
       "      <td>9057</td>\n",
       "      <td>8712</td>\n",
       "    </tr>\n",
       "    <tr>\n",
       "      <th>3</th>\n",
       "      <td>평창동</td>\n",
       "      <td>합계</td>\n",
       "      <td>16392</td>\n",
       "      <td>16098</td>\n",
       "    </tr>\n",
       "    <tr>\n",
       "      <th>4</th>\n",
       "      <td>무악동</td>\n",
       "      <td>합계</td>\n",
       "      <td>7446</td>\n",
       "      <td>7398</td>\n",
       "    </tr>\n",
       "  </tbody>\n",
       "</table>\n",
       "</div>"
      ],
      "text/plain": [
       "  행정구역별(읍면동) 연령별 총인구(명) 내국인(명)\n",
       "0  　　　　　　사직동  합계   8411   8138\n",
       "1  　　　　　　삼청동  합계   2060   1994\n",
       "2  　　　　　　부암동  합계   9057   8712\n",
       "3  　　　　　　평창동  합계  16392  16098\n",
       "4  　　　　　　무악동  합계   7446   7398"
      ]
     },
     "execution_count": 21,
     "metadata": {},
     "output_type": "execute_result"
    }
   ],
   "source": [
    "# 행정구역의 총 인구수와 내국인 수가 적힌 데이터를 불러온다.\n",
    "df2 = pd.read_excel('../data/raw/202506_읍면동_총인구수.xlsx')\n",
    "df2.head()"
   ]
  },
  {
   "cell_type": "code",
   "execution_count": 22,
   "metadata": {
    "colab": {
     "base_uri": "https://localhost:8080/",
     "height": 237
    },
    "executionInfo": {
     "elapsed": 43,
     "status": "ok",
     "timestamp": 1753784776063,
     "user": {
      "displayName": "강현서",
      "userId": "18385582855243059976"
     },
     "user_tz": -540
    },
    "id": "71c9e3cd",
    "outputId": "e7cb0709-7bbe-4f77-8929-31e18d874443"
   },
   "outputs": [
    {
     "data": {
      "text/html": [
       "<div>\n",
       "<style scoped>\n",
       "    .dataframe tbody tr th:only-of-type {\n",
       "        vertical-align: middle;\n",
       "    }\n",
       "\n",
       "    .dataframe tbody tr th {\n",
       "        vertical-align: top;\n",
       "    }\n",
       "\n",
       "    .dataframe thead th {\n",
       "        text-align: right;\n",
       "    }\n",
       "</style>\n",
       "<table border=\"1\" class=\"dataframe\">\n",
       "  <thead>\n",
       "    <tr style=\"text-align: right;\">\n",
       "      <th></th>\n",
       "      <th>외국인(명)</th>\n",
       "      <th>총인구(명)</th>\n",
       "    </tr>\n",
       "    <tr>\n",
       "      <th>행정구역별(읍면동)</th>\n",
       "      <th></th>\n",
       "      <th></th>\n",
       "    </tr>\n",
       "  </thead>\n",
       "  <tbody>\n",
       "    <tr>\n",
       "      <th>가경동</th>\n",
       "      <td>684.0</td>\n",
       "      <td>52880.0</td>\n",
       "    </tr>\n",
       "    <tr>\n",
       "      <th>가곡동</th>\n",
       "      <td>113.0</td>\n",
       "      <td>7247.0</td>\n",
       "    </tr>\n",
       "    <tr>\n",
       "      <th>가곡면</th>\n",
       "      <td>38.0</td>\n",
       "      <td>2492.0</td>\n",
       "    </tr>\n",
       "    <tr>\n",
       "      <th>가남읍</th>\n",
       "      <td>1592.0</td>\n",
       "      <td>15434.0</td>\n",
       "    </tr>\n",
       "    <tr>\n",
       "      <th>가능동</th>\n",
       "      <td>530.0</td>\n",
       "      <td>23424.0</td>\n",
       "    </tr>\n",
       "  </tbody>\n",
       "</table>\n",
       "</div>"
      ],
      "text/plain": [
       "            외국인(명)   총인구(명)\n",
       "행정구역별(읍면동)                 \n",
       "　　　　　　가경동    684.0  52880.0\n",
       "　　　　　　가곡동    113.0   7247.0\n",
       "　　　　　　가곡면     38.0   2492.0\n",
       "　　　　　　가남읍   1592.0  15434.0\n",
       "　　　　　　가능동    530.0  23424.0"
      ]
     },
     "metadata": {},
     "output_type": "display_data"
    }
   ],
   "source": [
    "# 마찬가지로 String 값을 int값으로 수정한다.\n",
    "df2['총인구(명)'] = pd.to_numeric(df2['총인구(명)'], errors='coerce').fillna(0)\n",
    "df2['내국인(명)'] = pd.to_numeric(df2['내국인(명)'], errors='coerce').fillna(0)\n",
    "\n",
    "# 총인구수 - 내국인 인구수 = 외국인 인구수\n",
    "df2['외국인(명)'] = df2['총인구(명)'] - df2['내국인(명)']\n",
    "\n",
    "# 이제 행정구역별 외국인 수와 총인구수(참고용)을 구한다.\n",
    "foreigners_by_district_df2 = df2.groupby('행정구역별(읍면동)')[['외국인(명)', '총인구(명)']].sum()\n",
    "\n",
    "display(foreigners_by_district_df2.head())"
   ]
  },
  {
   "cell_type": "code",
   "execution_count": null,
   "metadata": {
    "id": "tDbPKCD7Jwjm"
   },
   "outputs": [],
   "source": []
  },
  {
   "cell_type": "markdown",
   "metadata": {
    "id": "px46DTkbtOaO"
   },
   "source": [
    "### 4. 행정구역별 장애인 인구수"
   ]
  },
  {
   "cell_type": "code",
   "execution_count": 46,
   "metadata": {
    "executionInfo": {
     "elapsed": 42,
     "status": "ok",
     "timestamp": 1753784590313,
     "user": {
      "displayName": "강현서",
      "userId": "18385582855243059976"
     },
     "user_tz": -540
    },
    "id": "fOMEcKnNtQfV"
   },
   "outputs": [],
   "source": [
    "#"
   ]
  },
  {
   "cell_type": "code",
   "execution_count": null,
   "metadata": {
    "id": "xL5epOm4tR8X"
   },
   "outputs": [],
   "source": []
  },
  {
   "cell_type": "markdown",
   "metadata": {},
   "source": [
    "### 5. 데이터 export"
   ]
  },
  {
   "cell_type": "code",
   "execution_count": 23,
   "metadata": {},
   "outputs": [
    {
     "data": {
      "text/html": [
       "<div>\n",
       "<style scoped>\n",
       "    .dataframe tbody tr th:only-of-type {\n",
       "        vertical-align: middle;\n",
       "    }\n",
       "\n",
       "    .dataframe tbody tr th {\n",
       "        vertical-align: top;\n",
       "    }\n",
       "\n",
       "    .dataframe thead th {\n",
       "        text-align: right;\n",
       "    }\n",
       "</style>\n",
       "<table border=\"1\" class=\"dataframe\">\n",
       "  <thead>\n",
       "    <tr style=\"text-align: right;\">\n",
       "      <th></th>\n",
       "      <th>행정구역</th>\n",
       "      <th>65세이상인구수</th>\n",
       "      <th>15세미만인구수</th>\n",
       "      <th>외국인수</th>\n",
       "      <th>총인구</th>\n",
       "    </tr>\n",
       "  </thead>\n",
       "  <tbody>\n",
       "    <tr>\n",
       "      <th>0</th>\n",
       "      <td>가경동</td>\n",
       "      <td>7305.0</td>\n",
       "      <td>7100.0</td>\n",
       "      <td>684.0</td>\n",
       "      <td>52880.0</td>\n",
       "    </tr>\n",
       "    <tr>\n",
       "      <th>1</th>\n",
       "      <td>가곡동</td>\n",
       "      <td>2364.0</td>\n",
       "      <td>475.0</td>\n",
       "      <td>113.0</td>\n",
       "      <td>7247.0</td>\n",
       "    </tr>\n",
       "    <tr>\n",
       "      <th>2</th>\n",
       "      <td>가곡면</td>\n",
       "      <td>1184.0</td>\n",
       "      <td>113.0</td>\n",
       "      <td>38.0</td>\n",
       "      <td>2492.0</td>\n",
       "    </tr>\n",
       "    <tr>\n",
       "      <th>3</th>\n",
       "      <td>가남읍</td>\n",
       "      <td>3943.0</td>\n",
       "      <td>1099.0</td>\n",
       "      <td>1592.0</td>\n",
       "      <td>15434.0</td>\n",
       "    </tr>\n",
       "    <tr>\n",
       "      <th>4</th>\n",
       "      <td>가능동</td>\n",
       "      <td>5152.0</td>\n",
       "      <td>1867.0</td>\n",
       "      <td>530.0</td>\n",
       "      <td>23424.0</td>\n",
       "    </tr>\n",
       "  </tbody>\n",
       "</table>\n",
       "</div>"
      ],
      "text/plain": [
       "        행정구역  65세이상인구수  15세미만인구수    외국인수      총인구\n",
       "0  　　　　　　가경동    7305.0    7100.0   684.0  52880.0\n",
       "1  　　　　　　가곡동    2364.0     475.0   113.0   7247.0\n",
       "2  　　　　　　가곡면    1184.0     113.0    38.0   2492.0\n",
       "3  　　　　　　가남읍    3943.0    1099.0  1592.0  15434.0\n",
       "4  　　　　　　가능동    5152.0    1867.0   530.0  23424.0"
      ]
     },
     "metadata": {},
     "output_type": "display_data"
    }
   ],
   "source": [
    "# 오리지날 데이터를 각각의 변수에 copy\n",
    "pop65 = pop_65_plus.copy()\n",
    "pop15 = pop_under_15.copy()\n",
    "popFo = foreigners_by_district_df2.copy()\n",
    "\n",
    "# Merge를 수행하기 전, 컬럼 명들을 통일시켜 준다.\n",
    "pop65_df = pop65.reset_index().rename(columns={'행정구역': '행정구역', '총인구(명)': '65세이상인구수'})\n",
    "pop15_df = pop15.reset_index().rename(columns={'행정구역': '행정구역', '총인구(명)': '15세미만인구수'})\n",
    "popFo_df = popFo.reset_index().rename(columns={'행정구역별(읍면동)': '행정구역', '외국인(명)': '외국인수', '총인구(명)':'총인구'})\n",
    "\n",
    "# Merge 수행\n",
    "total = pd.merge(pop65_df, pop15_df, on='행정구역', how='outer')\n",
    "total = pd.merge(total, popFo_df, on='행정구역', how='outer')\n",
    "\n",
    "display(total.head())"
   ]
  },
  {
   "cell_type": "code",
   "execution_count": 25,
   "metadata": {},
   "outputs": [
    {
     "name": "stdout",
     "output_type": "stream",
     "text": [
      "Saved Excel to C:\\HIuniv_Project-hyeonseo\\data\\processed\\202506_읍면동_사회취약계층표.xlsx\n"
     ]
    }
   ],
   "source": [
    "from pathlib import Path\n",
    "\n",
    "# 저장할 폴더와 파일명 지정\n",
    "processed_dir = Path('..') / 'data' / 'processed'\n",
    "processed_dir.mkdir(parents=True, exist_ok=True)   # 폴더가 없으면 생성\n",
    "\n",
    "output_file = processed_dir / '202506_읍면동_사회취약계층표.xlsx'\n",
    "\n",
    "# DataFrame을 엑셀로 내보내기\n",
    "total.to_excel(output_file, index=False)  \n",
    "print(f\"Saved Excel to {output_file.resolve()}\")"
   ]
  },
  {
   "cell_type": "markdown",
   "metadata": {
    "id": "G3SUW9mDtSc3"
   },
   "source": [
    "## 사회취약계층 계산"
   ]
  },
  {
   "cell_type": "code",
   "execution_count": null,
   "metadata": {
    "id": "7BWikdtmtVQ1"
   },
   "outputs": [],
   "source": []
  }
 ],
 "metadata": {
  "colab": {
   "authorship_tag": "ABX9TyOn0OKpioibAAbCf1sYPeR9",
   "provenance": [],
   "toc_visible": true
  },
  "kernelspec": {
   "display_name": "Python 3",
   "name": "python3"
  },
  "language_info": {
   "codemirror_mode": {
    "name": "ipython",
    "version": 3
   },
   "file_extension": ".py",
   "mimetype": "text/x-python",
   "name": "python",
   "nbconvert_exporter": "python",
   "pygments_lexer": "ipython3",
   "version": "3.10.0"
  }
 },
 "nbformat": 4,
 "nbformat_minor": 0
}
