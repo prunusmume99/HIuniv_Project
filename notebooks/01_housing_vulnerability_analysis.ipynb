{
  "cells": [
    {
      "cell_type": "markdown",
      "metadata": {},
      "source": [
        "# 주거취약지수 분석\n",
        "\n",
        "이 노트북은 주거취약지수를 분석하고 계산합니다."
      ]
    },
    {
      "cell_type": "code",
      "execution_count": null,
      "metadata": {},
      "outputs": [],
      "source": [
        "import pandas as pd\n",
        "import numpy as np\n",
        "import matplotlib.pyplot as plt\n",
        "import seaborn as sns\n",
        "import os\n",
        "from pathlib import Path\n",
        "\n",
        "# 한글 폰트 설정\n",
        "plt.rcParams['font.family'] = 'Malgun Gothic'\n",
        "plt.rcParams['axes.unicode_minus'] = False\n",
        "\n",
        "# 프로젝트 디렉토리 설정\n",
        "project_dir = r\"/Users/sullem/yj/HIuniv_Project\"\n",
        "os.chdir(project_dir)\n",
        "\n",
        "print(f\"현재 작업 디렉토리: {os.getcwd()}\")"
      ]
    },
    {
      "cell_type": "code",
      "execution_count": null,
      "metadata": {},
      "outputs": [],
      "source": [
        "# 데이터 로드\n",
        "data_path = os.path.join(project_dir, \"data\", \"processed\", \"processed_data.csv\")\n",
        "df = pd.read_csv(data_path)\n",
        "\n",
        "print(f\"데이터 로드 완료: {len(df)}개 행\")\n",
        "print(f\"컬럼: {list(df.columns)}\")\n",
        "df.head()"
      ]
    },
    {
      "cell_type": "code",
      "execution_count": null,
      "metadata": {},
      "outputs": [],
      "source": [
        "# 주거취약지수 계산\n",
        "# 노후주택비율을 기준으로 취약지수 계산\n",
        "df['vulnerability_normalized'] = (df['aged_housing_ratio'] - df['aged_housing_ratio'].min()) / (df['aged_housing_ratio'].max() - df['aged_housing_ratio'].min()) * 100\n",
        "\n",
        "# 취약등급 분류\n",
        "def classify_vulnerability(score):\n",
        "    if score >= 80:\n",
        "        return '매우 높음'\n",
        "    elif score >= 60:\n",
        "        return '높음'\n",
        "    elif score >= 40:\n",
        "        return '보통'\n",
        "    elif score >= 20:\n",
        "        return '낮음'\n",
        "    else:\n",
        "        return '매우 낮음'\n",
        "\n",
        "df['vulnerability_level'] = df['vulnerability_normalized'].apply(classify_vulnerability)\n",
        "\n",
        "print(\"주거취약지수 계산 완료\")\n",
        "df[['region', 'vulnerability_normalized', 'vulnerability_level', 'aged_housing_ratio']].head()"
      ]
    },
    {
      "cell_type": "code",
      "execution_count": null,
      "metadata": {},
      "outputs": [],
      "source": [
        "# 결과 저장\n",
        "output_path = os.path.join(project_dir, \"results\", \"housing_vulnerability_analysis.csv\")\n",
        "df.to_csv(output_path, index=False, encoding='utf-8')\n",
        "print(f\"결과가 저장되었습니다: {output_path}\")\n",
        "\n",
        "# 취약등급별 분포 확인\n",
        "print(\"\\n=== 취약등급별 분포 ===\")\n",
        "grade_counts = df['vulnerability_level'].value_counts()\n",
        "for grade, count in grade_counts.items():\n",
        "    print(f\"{grade}: {count}개 ({count/len(df)*100:.1f}%)\")\n",
        "\n",
        "# 상위 5개 지역 (취약도 높음)\n",
        "print(\"\\n=== 상위 5개 지역 (취약도 높음) ===\")\n",
        "top_5 = df.nlargest(5, 'vulnerability_normalized')[['region', 'vulnerability_normalized', 'vulnerability_level', 'aged_housing_ratio']]\n",
        "print(top_5)"
      ]
    }
  ],
  "metadata": {
    "kernelspec": {
      "display_name": "Python 3",
      "language": "python",
      "name": "python3"
    },
    "language_info": {
      "codemirror_mode": {
        "name": "ipython",
        "version": 3
      },
      "file_extension": ".py",
      "mimetype": "text/x-python",
      "name": "python",
      "nbconvert_exporter": "python",
      "pygments_lexer": "ipython3",
      "version": "3.8.5"
    }
  },
  "nbformat": 4,
  "nbformat_minor": 4
}